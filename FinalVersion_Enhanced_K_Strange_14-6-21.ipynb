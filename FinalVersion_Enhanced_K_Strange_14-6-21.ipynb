{
  "nbformat": 4,
  "nbformat_minor": 0,
  "metadata": {
    "colab": {
      "name": "FinalVersion - Enhanced K Strange.ipynb",
      "provenance": [],
      "collapsed_sections": []
    },
    "kernelspec": {
      "name": "python3",
      "display_name": "Python 3"
    },
    "language_info": {
      "name": "python"
    }
  },
  "cells": [
    {
      "cell_type": "code",
      "metadata": {
        "colab": {
          "base_uri": "https://localhost:8080/"
        },
        "id": "j9_9o5XFzmiD",
        "outputId": "85606f40-25a4-41fa-a04d-9af6a6d581b2"
      },
      "source": [
        "from google.colab import drive\n",
        "drive.mount('/content/drive')"
      ],
      "execution_count": null,
      "outputs": [
        {
          "output_type": "stream",
          "text": [
            "Drive already mounted at /content/drive; to attempt to forcibly remount, call drive.mount(\"/content/drive\", force_remount=True).\n"
          ],
          "name": "stdout"
        }
      ]
    },
    {
      "cell_type": "code",
      "metadata": {
        "id": "qZAMvaJr2ECm"
      },
      "source": [
        "## Importing required modules\\librearies\n",
        "\n",
        "import numpy as np\n",
        "import pandas as pd\n",
        "from sklearn.preprocessing import MinMaxScaler\n",
        "import math\n",
        "import time\n",
        "from sklearn.metrics import confusion_matrix , classification_report\n",
        "from sklearn.metrics import plot_confusion_matrix\n",
        "import matplotlib.pyplot as plt"
      ],
      "execution_count": null,
      "outputs": []
    },
    {
      "cell_type": "code",
      "metadata": {
        "id": "qIVdvMOc0ueA",
        "colab": {
          "base_uri": "https://localhost:8080/",
          "height": 419
        },
        "outputId": "6b5c093a-f591-4142-fd74-ef5a8964d918"
      },
      "source": [
        "## Original PIMA Indian dataset\n",
        "\n",
        "originalDf = pd.read_csv('/content/drive/MyDrive/Notes/Final Year Project/datasets_14370_19291_pima-indians-diabetes.csv')\n",
        "\n",
        "originalDf.columns = ['preg', 'glu', 'BP', 'skinTh', 'insulin', 'BMI', 'diaPedFun', 'age', 'class']\n",
        "\n",
        "originalDf"
      ],
      "execution_count": null,
      "outputs": [
        {
          "output_type": "execute_result",
          "data": {
            "text/html": [
              "<div>\n",
              "<style scoped>\n",
              "    .dataframe tbody tr th:only-of-type {\n",
              "        vertical-align: middle;\n",
              "    }\n",
              "\n",
              "    .dataframe tbody tr th {\n",
              "        vertical-align: top;\n",
              "    }\n",
              "\n",
              "    .dataframe thead th {\n",
              "        text-align: right;\n",
              "    }\n",
              "</style>\n",
              "<table border=\"1\" class=\"dataframe\">\n",
              "  <thead>\n",
              "    <tr style=\"text-align: right;\">\n",
              "      <th></th>\n",
              "      <th>preg</th>\n",
              "      <th>glu</th>\n",
              "      <th>BP</th>\n",
              "      <th>skinTh</th>\n",
              "      <th>insulin</th>\n",
              "      <th>BMI</th>\n",
              "      <th>diaPedFun</th>\n",
              "      <th>age</th>\n",
              "      <th>class</th>\n",
              "    </tr>\n",
              "  </thead>\n",
              "  <tbody>\n",
              "    <tr>\n",
              "      <th>0</th>\n",
              "      <td>1</td>\n",
              "      <td>85</td>\n",
              "      <td>66</td>\n",
              "      <td>29</td>\n",
              "      <td>0</td>\n",
              "      <td>26.6</td>\n",
              "      <td>0.351</td>\n",
              "      <td>31</td>\n",
              "      <td>0</td>\n",
              "    </tr>\n",
              "    <tr>\n",
              "      <th>1</th>\n",
              "      <td>8</td>\n",
              "      <td>183</td>\n",
              "      <td>64</td>\n",
              "      <td>0</td>\n",
              "      <td>0</td>\n",
              "      <td>23.3</td>\n",
              "      <td>0.672</td>\n",
              "      <td>32</td>\n",
              "      <td>1</td>\n",
              "    </tr>\n",
              "    <tr>\n",
              "      <th>2</th>\n",
              "      <td>1</td>\n",
              "      <td>89</td>\n",
              "      <td>66</td>\n",
              "      <td>23</td>\n",
              "      <td>94</td>\n",
              "      <td>28.1</td>\n",
              "      <td>0.167</td>\n",
              "      <td>21</td>\n",
              "      <td>0</td>\n",
              "    </tr>\n",
              "    <tr>\n",
              "      <th>3</th>\n",
              "      <td>0</td>\n",
              "      <td>137</td>\n",
              "      <td>40</td>\n",
              "      <td>35</td>\n",
              "      <td>168</td>\n",
              "      <td>43.1</td>\n",
              "      <td>2.288</td>\n",
              "      <td>33</td>\n",
              "      <td>1</td>\n",
              "    </tr>\n",
              "    <tr>\n",
              "      <th>4</th>\n",
              "      <td>5</td>\n",
              "      <td>116</td>\n",
              "      <td>74</td>\n",
              "      <td>0</td>\n",
              "      <td>0</td>\n",
              "      <td>25.6</td>\n",
              "      <td>0.201</td>\n",
              "      <td>30</td>\n",
              "      <td>0</td>\n",
              "    </tr>\n",
              "    <tr>\n",
              "      <th>...</th>\n",
              "      <td>...</td>\n",
              "      <td>...</td>\n",
              "      <td>...</td>\n",
              "      <td>...</td>\n",
              "      <td>...</td>\n",
              "      <td>...</td>\n",
              "      <td>...</td>\n",
              "      <td>...</td>\n",
              "      <td>...</td>\n",
              "    </tr>\n",
              "    <tr>\n",
              "      <th>762</th>\n",
              "      <td>10</td>\n",
              "      <td>101</td>\n",
              "      <td>76</td>\n",
              "      <td>48</td>\n",
              "      <td>180</td>\n",
              "      <td>32.9</td>\n",
              "      <td>0.171</td>\n",
              "      <td>63</td>\n",
              "      <td>0</td>\n",
              "    </tr>\n",
              "    <tr>\n",
              "      <th>763</th>\n",
              "      <td>2</td>\n",
              "      <td>122</td>\n",
              "      <td>70</td>\n",
              "      <td>27</td>\n",
              "      <td>0</td>\n",
              "      <td>36.8</td>\n",
              "      <td>0.340</td>\n",
              "      <td>27</td>\n",
              "      <td>0</td>\n",
              "    </tr>\n",
              "    <tr>\n",
              "      <th>764</th>\n",
              "      <td>5</td>\n",
              "      <td>121</td>\n",
              "      <td>72</td>\n",
              "      <td>23</td>\n",
              "      <td>112</td>\n",
              "      <td>26.2</td>\n",
              "      <td>0.245</td>\n",
              "      <td>30</td>\n",
              "      <td>0</td>\n",
              "    </tr>\n",
              "    <tr>\n",
              "      <th>765</th>\n",
              "      <td>1</td>\n",
              "      <td>126</td>\n",
              "      <td>60</td>\n",
              "      <td>0</td>\n",
              "      <td>0</td>\n",
              "      <td>30.1</td>\n",
              "      <td>0.349</td>\n",
              "      <td>47</td>\n",
              "      <td>1</td>\n",
              "    </tr>\n",
              "    <tr>\n",
              "      <th>766</th>\n",
              "      <td>1</td>\n",
              "      <td>93</td>\n",
              "      <td>70</td>\n",
              "      <td>31</td>\n",
              "      <td>0</td>\n",
              "      <td>30.4</td>\n",
              "      <td>0.315</td>\n",
              "      <td>23</td>\n",
              "      <td>0</td>\n",
              "    </tr>\n",
              "  </tbody>\n",
              "</table>\n",
              "<p>767 rows × 9 columns</p>\n",
              "</div>"
            ],
            "text/plain": [
              "     preg  glu  BP  skinTh  insulin   BMI  diaPedFun  age  class\n",
              "0       1   85  66      29        0  26.6      0.351   31      0\n",
              "1       8  183  64       0        0  23.3      0.672   32      1\n",
              "2       1   89  66      23       94  28.1      0.167   21      0\n",
              "3       0  137  40      35      168  43.1      2.288   33      1\n",
              "4       5  116  74       0        0  25.6      0.201   30      0\n",
              "..    ...  ...  ..     ...      ...   ...        ...  ...    ...\n",
              "762    10  101  76      48      180  32.9      0.171   63      0\n",
              "763     2  122  70      27        0  36.8      0.340   27      0\n",
              "764     5  121  72      23      112  26.2      0.245   30      0\n",
              "765     1  126  60       0        0  30.1      0.349   47      1\n",
              "766     1   93  70      31        0  30.4      0.315   23      0\n",
              "\n",
              "[767 rows x 9 columns]"
            ]
          },
          "metadata": {
            "tags": []
          },
          "execution_count": 142
        }
      ]
    },
    {
      "cell_type": "code",
      "metadata": {
        "colab": {
          "base_uri": "https://localhost:8080/"
        },
        "id": "X55_duIqXfE2",
        "outputId": "222bd3b3-433b-42e4-dd1c-2792530d3222"
      },
      "source": [
        "# Number of diabetic data points in the original dataset\n",
        "\n",
        "Diabetic = originalDf[originalDf['class'] == 1]\n",
        "\n",
        "Diabetic.shape"
      ],
      "execution_count": null,
      "outputs": [
        {
          "output_type": "execute_result",
          "data": {
            "text/plain": [
              "(267, 9)"
            ]
          },
          "metadata": {
            "tags": []
          },
          "execution_count": 143
        }
      ]
    },
    {
      "cell_type": "code",
      "metadata": {
        "colab": {
          "base_uri": "https://localhost:8080/"
        },
        "id": "aGk1jB9lYhXO",
        "outputId": "6ec57e2c-af21-482d-aacd-1e2ed8aadb83"
      },
      "source": [
        "# Number of Non diabetic data points in the original dataset\n",
        "\n",
        "Non_Diabetic = originalDf[originalDf['class'] == 0]\n",
        "\n",
        "Non_Diabetic.shape"
      ],
      "execution_count": null,
      "outputs": [
        {
          "output_type": "execute_result",
          "data": {
            "text/plain": [
              "(500, 9)"
            ]
          },
          "metadata": {
            "tags": []
          },
          "execution_count": 144
        }
      ]
    },
    {
      "cell_type": "code",
      "metadata": {
        "colab": {
          "base_uri": "https://localhost:8080/",
          "height": 419
        },
        "id": "LbHGCFSWOCVx",
        "outputId": "b569a643-9545-4e94-e77d-0ea44d57ab59"
      },
      "source": [
        "## Setting up a copy of original dataFrame to work with\n",
        "\n",
        "dfCopy = originalDf.copy()\n",
        "\n",
        "del dfCopy['class']\n",
        "\n",
        "## Using minMax Scaler\n",
        "scaler = MinMaxScaler()\n",
        "\n",
        "# fit using the train set\n",
        "scaler.fit(dfCopy)\n",
        "\n",
        "#transform the test set\n",
        "X_scaled = scaler.transform(dfCopy)\n",
        "\n",
        "df = pd.DataFrame(X_scaled)\n",
        "\n",
        "df.columns = ['preg',\t'glu',\t'BP',\t'skinTh',\t'insulin',\t'BMI',\t'diaPedFun',\t'age']\n",
        "\n",
        "df"
      ],
      "execution_count": null,
      "outputs": [
        {
          "output_type": "execute_result",
          "data": {
            "text/html": [
              "<div>\n",
              "<style scoped>\n",
              "    .dataframe tbody tr th:only-of-type {\n",
              "        vertical-align: middle;\n",
              "    }\n",
              "\n",
              "    .dataframe tbody tr th {\n",
              "        vertical-align: top;\n",
              "    }\n",
              "\n",
              "    .dataframe thead th {\n",
              "        text-align: right;\n",
              "    }\n",
              "</style>\n",
              "<table border=\"1\" class=\"dataframe\">\n",
              "  <thead>\n",
              "    <tr style=\"text-align: right;\">\n",
              "      <th></th>\n",
              "      <th>preg</th>\n",
              "      <th>glu</th>\n",
              "      <th>BP</th>\n",
              "      <th>skinTh</th>\n",
              "      <th>insulin</th>\n",
              "      <th>BMI</th>\n",
              "      <th>diaPedFun</th>\n",
              "      <th>age</th>\n",
              "    </tr>\n",
              "  </thead>\n",
              "  <tbody>\n",
              "    <tr>\n",
              "      <th>0</th>\n",
              "      <td>0.058824</td>\n",
              "      <td>0.427136</td>\n",
              "      <td>0.540984</td>\n",
              "      <td>0.292929</td>\n",
              "      <td>0.000000</td>\n",
              "      <td>0.396423</td>\n",
              "      <td>0.116567</td>\n",
              "      <td>0.166667</td>\n",
              "    </tr>\n",
              "    <tr>\n",
              "      <th>1</th>\n",
              "      <td>0.470588</td>\n",
              "      <td>0.919598</td>\n",
              "      <td>0.524590</td>\n",
              "      <td>0.000000</td>\n",
              "      <td>0.000000</td>\n",
              "      <td>0.347243</td>\n",
              "      <td>0.253629</td>\n",
              "      <td>0.183333</td>\n",
              "    </tr>\n",
              "    <tr>\n",
              "      <th>2</th>\n",
              "      <td>0.058824</td>\n",
              "      <td>0.447236</td>\n",
              "      <td>0.540984</td>\n",
              "      <td>0.232323</td>\n",
              "      <td>0.111111</td>\n",
              "      <td>0.418778</td>\n",
              "      <td>0.038002</td>\n",
              "      <td>0.000000</td>\n",
              "    </tr>\n",
              "    <tr>\n",
              "      <th>3</th>\n",
              "      <td>0.000000</td>\n",
              "      <td>0.688442</td>\n",
              "      <td>0.327869</td>\n",
              "      <td>0.353535</td>\n",
              "      <td>0.198582</td>\n",
              "      <td>0.642325</td>\n",
              "      <td>0.943638</td>\n",
              "      <td>0.200000</td>\n",
              "    </tr>\n",
              "    <tr>\n",
              "      <th>4</th>\n",
              "      <td>0.294118</td>\n",
              "      <td>0.582915</td>\n",
              "      <td>0.606557</td>\n",
              "      <td>0.000000</td>\n",
              "      <td>0.000000</td>\n",
              "      <td>0.381520</td>\n",
              "      <td>0.052519</td>\n",
              "      <td>0.150000</td>\n",
              "    </tr>\n",
              "    <tr>\n",
              "      <th>...</th>\n",
              "      <td>...</td>\n",
              "      <td>...</td>\n",
              "      <td>...</td>\n",
              "      <td>...</td>\n",
              "      <td>...</td>\n",
              "      <td>...</td>\n",
              "      <td>...</td>\n",
              "      <td>...</td>\n",
              "    </tr>\n",
              "    <tr>\n",
              "      <th>762</th>\n",
              "      <td>0.588235</td>\n",
              "      <td>0.507538</td>\n",
              "      <td>0.622951</td>\n",
              "      <td>0.484848</td>\n",
              "      <td>0.212766</td>\n",
              "      <td>0.490313</td>\n",
              "      <td>0.039710</td>\n",
              "      <td>0.700000</td>\n",
              "    </tr>\n",
              "    <tr>\n",
              "      <th>763</th>\n",
              "      <td>0.117647</td>\n",
              "      <td>0.613065</td>\n",
              "      <td>0.573770</td>\n",
              "      <td>0.272727</td>\n",
              "      <td>0.000000</td>\n",
              "      <td>0.548435</td>\n",
              "      <td>0.111870</td>\n",
              "      <td>0.100000</td>\n",
              "    </tr>\n",
              "    <tr>\n",
              "      <th>764</th>\n",
              "      <td>0.294118</td>\n",
              "      <td>0.608040</td>\n",
              "      <td>0.590164</td>\n",
              "      <td>0.232323</td>\n",
              "      <td>0.132388</td>\n",
              "      <td>0.390462</td>\n",
              "      <td>0.071307</td>\n",
              "      <td>0.150000</td>\n",
              "    </tr>\n",
              "    <tr>\n",
              "      <th>765</th>\n",
              "      <td>0.058824</td>\n",
              "      <td>0.633166</td>\n",
              "      <td>0.491803</td>\n",
              "      <td>0.000000</td>\n",
              "      <td>0.000000</td>\n",
              "      <td>0.448584</td>\n",
              "      <td>0.115713</td>\n",
              "      <td>0.433333</td>\n",
              "    </tr>\n",
              "    <tr>\n",
              "      <th>766</th>\n",
              "      <td>0.058824</td>\n",
              "      <td>0.467337</td>\n",
              "      <td>0.573770</td>\n",
              "      <td>0.313131</td>\n",
              "      <td>0.000000</td>\n",
              "      <td>0.453055</td>\n",
              "      <td>0.101196</td>\n",
              "      <td>0.033333</td>\n",
              "    </tr>\n",
              "  </tbody>\n",
              "</table>\n",
              "<p>767 rows × 8 columns</p>\n",
              "</div>"
            ],
            "text/plain": [
              "         preg       glu        BP  ...       BMI  diaPedFun       age\n",
              "0    0.058824  0.427136  0.540984  ...  0.396423   0.116567  0.166667\n",
              "1    0.470588  0.919598  0.524590  ...  0.347243   0.253629  0.183333\n",
              "2    0.058824  0.447236  0.540984  ...  0.418778   0.038002  0.000000\n",
              "3    0.000000  0.688442  0.327869  ...  0.642325   0.943638  0.200000\n",
              "4    0.294118  0.582915  0.606557  ...  0.381520   0.052519  0.150000\n",
              "..        ...       ...       ...  ...       ...        ...       ...\n",
              "762  0.588235  0.507538  0.622951  ...  0.490313   0.039710  0.700000\n",
              "763  0.117647  0.613065  0.573770  ...  0.548435   0.111870  0.100000\n",
              "764  0.294118  0.608040  0.590164  ...  0.390462   0.071307  0.150000\n",
              "765  0.058824  0.633166  0.491803  ...  0.448584   0.115713  0.433333\n",
              "766  0.058824  0.467337  0.573770  ...  0.453055   0.101196  0.033333\n",
              "\n",
              "[767 rows x 8 columns]"
            ]
          },
          "metadata": {
            "tags": []
          },
          "execution_count": 145
        }
      ]
    },
    {
      "cell_type": "code",
      "metadata": {
        "id": "SDTn8i23ONaL"
      },
      "source": [
        "## Function to calculate Eucledian Distance\n",
        "\n",
        "def dist(plist1, plist2):\n",
        "  return math.sqrt( (plist1[0] - plist2[0])**2 + (plist1[1] - plist2[1])**2 + (plist1[2] - plist2[2])**2 + (plist1[3] - plist2[3])**2 + (plist1[4] - plist2[4])**2 + (plist1[5] - plist2[5])**2 + (plist1[6] - plist2[6])**2 + (plist1[7] - plist2[7])**2) "
      ],
      "execution_count": null,
      "outputs": []
    },
    {
      "cell_type": "code",
      "metadata": {
        "id": "BaPynkC6mTYR"
      },
      "source": [
        "begin = time.time();  #timer start"
      ],
      "execution_count": null,
      "outputs": []
    },
    {
      "cell_type": "code",
      "metadata": {
        "colab": {
          "base_uri": "https://localhost:8080/",
          "height": 165
        },
        "id": "tjGqRaTYOcYM",
        "outputId": "983fdabc-0cc5-4372-b996-e3ac42496233"
      },
      "source": [
        "## To find Xmin data point ---> data point with minimumt distance from origin\n",
        "\n",
        "origin = pd.Series([0,0,0,0,0,0,0,0])\n",
        "\n",
        "rows, columns = df.shape\n",
        "\n",
        "df['dFromOrigin'] = 0   ## Adding attribute/Column 'dFromOrigin' to the dataframe\n",
        "\n",
        "for i in range (rows):\n",
        "  df['dFromOrigin'].iloc[i] = dist(origin, df.iloc[i])   ## Calculating Eucledian distance\n",
        "\n",
        "Xmin = df.dFromOrigin.min() ## Value of Xmin\n",
        "\n",
        "XminRow = df[df['dFromOrigin'] == df.dFromOrigin.min()]  ## Xmin data point (row)\n",
        "\n",
        "del XminRow['dFromOrigin']   ## Some waste management\n",
        "\n",
        "XminRow   ## Displaying Xmin data point"
      ],
      "execution_count": null,
      "outputs": [
        {
          "output_type": "stream",
          "text": [
            "/usr/local/lib/python3.7/dist-packages/pandas/core/indexing.py:670: SettingWithCopyWarning: \n",
            "A value is trying to be set on a copy of a slice from a DataFrame\n",
            "\n",
            "See the caveats in the documentation: https://pandas.pydata.org/pandas-docs/stable/user_guide/indexing.html#returning-a-view-versus-a-copy\n",
            "  iloc._setitem_with_indexer(indexer, value)\n"
          ],
          "name": "stderr"
        },
        {
          "output_type": "execute_result",
          "data": {
            "text/html": [
              "<div>\n",
              "<style scoped>\n",
              "    .dataframe tbody tr th:only-of-type {\n",
              "        vertical-align: middle;\n",
              "    }\n",
              "\n",
              "    .dataframe tbody tr th {\n",
              "        vertical-align: top;\n",
              "    }\n",
              "\n",
              "    .dataframe thead th {\n",
              "        text-align: right;\n",
              "    }\n",
              "</style>\n",
              "<table border=\"1\" class=\"dataframe\">\n",
              "  <thead>\n",
              "    <tr style=\"text-align: right;\">\n",
              "      <th></th>\n",
              "      <th>preg</th>\n",
              "      <th>glu</th>\n",
              "      <th>BP</th>\n",
              "      <th>skinTh</th>\n",
              "      <th>insulin</th>\n",
              "      <th>BMI</th>\n",
              "      <th>diaPedFun</th>\n",
              "      <th>age</th>\n",
              "    </tr>\n",
              "  </thead>\n",
              "  <tbody>\n",
              "    <tr>\n",
              "      <th>80</th>\n",
              "      <td>0.117647</td>\n",
              "      <td>0.371859</td>\n",
              "      <td>0.0</td>\n",
              "      <td>0.0</td>\n",
              "      <td>0.0</td>\n",
              "      <td>0.0</td>\n",
              "      <td>0.010248</td>\n",
              "      <td>0.016667</td>\n",
              "    </tr>\n",
              "  </tbody>\n",
              "</table>\n",
              "</div>"
            ],
            "text/plain": [
              "        preg       glu   BP  skinTh  insulin  BMI  diaPedFun       age\n",
              "80  0.117647  0.371859  0.0     0.0      0.0  0.0   0.010248  0.016667"
            ]
          },
          "metadata": {
            "tags": []
          },
          "execution_count": 148
        }
      ]
    },
    {
      "cell_type": "code",
      "metadata": {
        "colab": {
          "base_uri": "https://localhost:8080/",
          "height": 165
        },
        "id": "lWjTyVWhPQCE",
        "outputId": "d7c73518-3f71-4b9e-940f-4ba6ccd32621"
      },
      "source": [
        "## To find Xmax data point   ----->   data point with maximum distance from Xmin data point\n",
        "\n",
        "df['dFromXmin'] = 0\n",
        "\n",
        "for i in range (rows):\n",
        "  df['dFromXmin'].iloc[i] = dist(XminRow.iloc[0], df.iloc[i])\n",
        "\n",
        "Xmax = df.dFromXmin.max()  ## Value of Xmax\n",
        "\n",
        "XmaxRow = df[df['dFromXmin'] == df.dFromXmin.max()]\n",
        "\n",
        "del XmaxRow['dFromOrigin']  ## Waste management\n",
        "del XmaxRow['dFromXmin']   ## Waste management\n",
        "\n",
        "XmaxRow"
      ],
      "execution_count": null,
      "outputs": [
        {
          "output_type": "stream",
          "text": [
            "/usr/local/lib/python3.7/dist-packages/pandas/core/indexing.py:670: SettingWithCopyWarning: \n",
            "A value is trying to be set on a copy of a slice from a DataFrame\n",
            "\n",
            "See the caveats in the documentation: https://pandas.pydata.org/pandas-docs/stable/user_guide/indexing.html#returning-a-view-versus-a-copy\n",
            "  iloc._setitem_with_indexer(indexer, value)\n"
          ],
          "name": "stderr"
        },
        {
          "output_type": "execute_result",
          "data": {
            "text/html": [
              "<div>\n",
              "<style scoped>\n",
              "    .dataframe tbody tr th:only-of-type {\n",
              "        vertical-align: middle;\n",
              "    }\n",
              "\n",
              "    .dataframe tbody tr th {\n",
              "        vertical-align: top;\n",
              "    }\n",
              "\n",
              "    .dataframe thead th {\n",
              "        text-align: right;\n",
              "    }\n",
              "</style>\n",
              "<table border=\"1\" class=\"dataframe\">\n",
              "  <thead>\n",
              "    <tr style=\"text-align: right;\">\n",
              "      <th></th>\n",
              "      <th>preg</th>\n",
              "      <th>glu</th>\n",
              "      <th>BP</th>\n",
              "      <th>skinTh</th>\n",
              "      <th>insulin</th>\n",
              "      <th>BMI</th>\n",
              "      <th>diaPedFun</th>\n",
              "      <th>age</th>\n",
              "    </tr>\n",
              "  </thead>\n",
              "  <tbody>\n",
              "    <tr>\n",
              "      <th>227</th>\n",
              "      <td>0.235294</td>\n",
              "      <td>0.98995</td>\n",
              "      <td>0.57377</td>\n",
              "      <td>0.393939</td>\n",
              "      <td>0.879433</td>\n",
              "      <td>0.546945</td>\n",
              "      <td>0.961144</td>\n",
              "      <td>0.166667</td>\n",
              "    </tr>\n",
              "  </tbody>\n",
              "</table>\n",
              "</div>"
            ],
            "text/plain": [
              "         preg      glu       BP  ...       BMI  diaPedFun       age\n",
              "227  0.235294  0.98995  0.57377  ...  0.546945   0.961144  0.166667\n",
              "\n",
              "[1 rows x 8 columns]"
            ]
          },
          "metadata": {
            "tags": []
          },
          "execution_count": 149
        }
      ]
    },
    {
      "cell_type": "code",
      "metadata": {
        "colab": {
          "base_uri": "https://localhost:8080/",
          "height": 196
        },
        "id": "dzF-frnFPVJO",
        "outputId": "9a6753f1-3915-43fd-92de-9473002bb6bd"
      },
      "source": [
        "## Distance of data points from Xmax data point \n",
        "\n",
        "df['dFromXmax'] = 0\n",
        "\n",
        "for i in range (rows):\n",
        "  df['dFromXmax'].iloc[i] = dist(XmaxRow.iloc[0], df.iloc[i])\n",
        "\n",
        "df.head(2)\n"
      ],
      "execution_count": null,
      "outputs": [
        {
          "output_type": "stream",
          "text": [
            "/usr/local/lib/python3.7/dist-packages/pandas/core/indexing.py:670: SettingWithCopyWarning: \n",
            "A value is trying to be set on a copy of a slice from a DataFrame\n",
            "\n",
            "See the caveats in the documentation: https://pandas.pydata.org/pandas-docs/stable/user_guide/indexing.html#returning-a-view-versus-a-copy\n",
            "  iloc._setitem_with_indexer(indexer, value)\n"
          ],
          "name": "stderr"
        },
        {
          "output_type": "execute_result",
          "data": {
            "text/html": [
              "<div>\n",
              "<style scoped>\n",
              "    .dataframe tbody tr th:only-of-type {\n",
              "        vertical-align: middle;\n",
              "    }\n",
              "\n",
              "    .dataframe tbody tr th {\n",
              "        vertical-align: top;\n",
              "    }\n",
              "\n",
              "    .dataframe thead th {\n",
              "        text-align: right;\n",
              "    }\n",
              "</style>\n",
              "<table border=\"1\" class=\"dataframe\">\n",
              "  <thead>\n",
              "    <tr style=\"text-align: right;\">\n",
              "      <th></th>\n",
              "      <th>preg</th>\n",
              "      <th>glu</th>\n",
              "      <th>BP</th>\n",
              "      <th>skinTh</th>\n",
              "      <th>insulin</th>\n",
              "      <th>BMI</th>\n",
              "      <th>diaPedFun</th>\n",
              "      <th>age</th>\n",
              "      <th>dFromOrigin</th>\n",
              "      <th>dFromXmin</th>\n",
              "      <th>dFromXmax</th>\n",
              "    </tr>\n",
              "  </thead>\n",
              "  <tbody>\n",
              "    <tr>\n",
              "      <th>0</th>\n",
              "      <td>0.058824</td>\n",
              "      <td>0.427136</td>\n",
              "      <td>0.540984</td>\n",
              "      <td>0.292929</td>\n",
              "      <td>0.0</td>\n",
              "      <td>0.396423</td>\n",
              "      <td>0.116567</td>\n",
              "      <td>0.166667</td>\n",
              "      <td>0.873437</td>\n",
              "      <td>0.758908</td>\n",
              "      <td>1.366949</td>\n",
              "    </tr>\n",
              "    <tr>\n",
              "      <th>1</th>\n",
              "      <td>0.470588</td>\n",
              "      <td>0.919598</td>\n",
              "      <td>0.524590</td>\n",
              "      <td>0.000000</td>\n",
              "      <td>0.0</td>\n",
              "      <td>0.347243</td>\n",
              "      <td>0.253629</td>\n",
              "      <td>0.183333</td>\n",
              "      <td>1.249330</td>\n",
              "      <td>0.952560</td>\n",
              "      <td>1.237763</td>\n",
              "    </tr>\n",
              "  </tbody>\n",
              "</table>\n",
              "</div>"
            ],
            "text/plain": [
              "       preg       glu        BP  ...  dFromOrigin  dFromXmin  dFromXmax\n",
              "0  0.058824  0.427136  0.540984  ...     0.873437   0.758908   1.366949\n",
              "1  0.470588  0.919598  0.524590  ...     1.249330   0.952560   1.237763\n",
              "\n",
              "[2 rows x 11 columns]"
            ]
          },
          "metadata": {
            "tags": []
          },
          "execution_count": 150
        }
      ]
    },
    {
      "cell_type": "code",
      "metadata": {
        "colab": {
          "base_uri": "https://localhost:8080/",
          "height": 504
        },
        "id": "sZMYhWAsrZsK",
        "outputId": "06f7bb6d-b13a-485d-edca-88bb932c8073"
      },
      "source": [
        "## Forming Clusters\n",
        "\n",
        "df['cluster'] = 0\n",
        "\n",
        "for i in range (rows):\n",
        "  if ( (df.dFromXmin.iloc[i] < df.dFromXmax.iloc[i]) ) :\n",
        "    df['cluster'].iloc[i] = 1\n",
        "  else : df['cluster'].iloc[i] = 0\n",
        "\n",
        "df"
      ],
      "execution_count": null,
      "outputs": [
        {
          "output_type": "stream",
          "text": [
            "/usr/local/lib/python3.7/dist-packages/pandas/core/indexing.py:670: SettingWithCopyWarning: \n",
            "A value is trying to be set on a copy of a slice from a DataFrame\n",
            "\n",
            "See the caveats in the documentation: https://pandas.pydata.org/pandas-docs/stable/user_guide/indexing.html#returning-a-view-versus-a-copy\n",
            "  iloc._setitem_with_indexer(indexer, value)\n"
          ],
          "name": "stderr"
        },
        {
          "output_type": "execute_result",
          "data": {
            "text/html": [
              "<div>\n",
              "<style scoped>\n",
              "    .dataframe tbody tr th:only-of-type {\n",
              "        vertical-align: middle;\n",
              "    }\n",
              "\n",
              "    .dataframe tbody tr th {\n",
              "        vertical-align: top;\n",
              "    }\n",
              "\n",
              "    .dataframe thead th {\n",
              "        text-align: right;\n",
              "    }\n",
              "</style>\n",
              "<table border=\"1\" class=\"dataframe\">\n",
              "  <thead>\n",
              "    <tr style=\"text-align: right;\">\n",
              "      <th></th>\n",
              "      <th>preg</th>\n",
              "      <th>glu</th>\n",
              "      <th>BP</th>\n",
              "      <th>skinTh</th>\n",
              "      <th>insulin</th>\n",
              "      <th>BMI</th>\n",
              "      <th>diaPedFun</th>\n",
              "      <th>age</th>\n",
              "      <th>dFromOrigin</th>\n",
              "      <th>dFromXmin</th>\n",
              "      <th>dFromXmax</th>\n",
              "      <th>cluster</th>\n",
              "    </tr>\n",
              "  </thead>\n",
              "  <tbody>\n",
              "    <tr>\n",
              "      <th>0</th>\n",
              "      <td>0.058824</td>\n",
              "      <td>0.427136</td>\n",
              "      <td>0.540984</td>\n",
              "      <td>0.292929</td>\n",
              "      <td>0.000000</td>\n",
              "      <td>0.396423</td>\n",
              "      <td>0.116567</td>\n",
              "      <td>0.166667</td>\n",
              "      <td>0.873437</td>\n",
              "      <td>0.758908</td>\n",
              "      <td>1.366949</td>\n",
              "      <td>1</td>\n",
              "    </tr>\n",
              "    <tr>\n",
              "      <th>1</th>\n",
              "      <td>0.470588</td>\n",
              "      <td>0.919598</td>\n",
              "      <td>0.524590</td>\n",
              "      <td>0.000000</td>\n",
              "      <td>0.000000</td>\n",
              "      <td>0.347243</td>\n",
              "      <td>0.253629</td>\n",
              "      <td>0.183333</td>\n",
              "      <td>1.249330</td>\n",
              "      <td>0.952560</td>\n",
              "      <td>1.237763</td>\n",
              "      <td>1</td>\n",
              "    </tr>\n",
              "    <tr>\n",
              "      <th>2</th>\n",
              "      <td>0.058824</td>\n",
              "      <td>0.447236</td>\n",
              "      <td>0.540984</td>\n",
              "      <td>0.232323</td>\n",
              "      <td>0.111111</td>\n",
              "      <td>0.418778</td>\n",
              "      <td>0.038002</td>\n",
              "      <td>0.000000</td>\n",
              "      <td>0.859815</td>\n",
              "      <td>0.737935</td>\n",
              "      <td>1.356315</td>\n",
              "      <td>1</td>\n",
              "    </tr>\n",
              "    <tr>\n",
              "      <th>3</th>\n",
              "      <td>0.000000</td>\n",
              "      <td>0.688442</td>\n",
              "      <td>0.327869</td>\n",
              "      <td>0.353535</td>\n",
              "      <td>0.198582</td>\n",
              "      <td>0.642325</td>\n",
              "      <td>0.943638</td>\n",
              "      <td>0.200000</td>\n",
              "      <td>1.445305</td>\n",
              "      <td>1.305142</td>\n",
              "      <td>0.826101</td>\n",
              "      <td>0</td>\n",
              "    </tr>\n",
              "    <tr>\n",
              "      <th>4</th>\n",
              "      <td>0.294118</td>\n",
              "      <td>0.582915</td>\n",
              "      <td>0.606557</td>\n",
              "      <td>0.000000</td>\n",
              "      <td>0.000000</td>\n",
              "      <td>0.381520</td>\n",
              "      <td>0.052519</td>\n",
              "      <td>0.150000</td>\n",
              "      <td>0.982355</td>\n",
              "      <td>0.780205</td>\n",
              "      <td>1.397156</td>\n",
              "      <td>1</td>\n",
              "    </tr>\n",
              "    <tr>\n",
              "      <th>...</th>\n",
              "      <td>...</td>\n",
              "      <td>...</td>\n",
              "      <td>...</td>\n",
              "      <td>...</td>\n",
              "      <td>...</td>\n",
              "      <td>...</td>\n",
              "      <td>...</td>\n",
              "      <td>...</td>\n",
              "      <td>...</td>\n",
              "      <td>...</td>\n",
              "      <td>...</td>\n",
              "      <td>...</td>\n",
              "    </tr>\n",
              "    <tr>\n",
              "      <th>762</th>\n",
              "      <td>0.588235</td>\n",
              "      <td>0.507538</td>\n",
              "      <td>0.622951</td>\n",
              "      <td>0.484848</td>\n",
              "      <td>0.212766</td>\n",
              "      <td>0.490313</td>\n",
              "      <td>0.039710</td>\n",
              "      <td>0.700000</td>\n",
              "      <td>1.415632</td>\n",
              "      <td>1.271415</td>\n",
              "      <td>1.396105</td>\n",
              "      <td>1</td>\n",
              "    </tr>\n",
              "    <tr>\n",
              "      <th>763</th>\n",
              "      <td>0.117647</td>\n",
              "      <td>0.613065</td>\n",
              "      <td>0.573770</td>\n",
              "      <td>0.272727</td>\n",
              "      <td>0.000000</td>\n",
              "      <td>0.548435</td>\n",
              "      <td>0.111870</td>\n",
              "      <td>0.100000</td>\n",
              "      <td>1.056683</td>\n",
              "      <td>0.883077</td>\n",
              "      <td>1.292165</td>\n",
              "      <td>1</td>\n",
              "    </tr>\n",
              "    <tr>\n",
              "      <th>764</th>\n",
              "      <td>0.294118</td>\n",
              "      <td>0.608040</td>\n",
              "      <td>0.590164</td>\n",
              "      <td>0.232323</td>\n",
              "      <td>0.132388</td>\n",
              "      <td>0.390462</td>\n",
              "      <td>0.071307</td>\n",
              "      <td>0.150000</td>\n",
              "      <td>1.027647</td>\n",
              "      <td>0.825036</td>\n",
              "      <td>1.245133</td>\n",
              "      <td>1</td>\n",
              "    </tr>\n",
              "    <tr>\n",
              "      <th>765</th>\n",
              "      <td>0.058824</td>\n",
              "      <td>0.633166</td>\n",
              "      <td>0.491803</td>\n",
              "      <td>0.000000</td>\n",
              "      <td>0.000000</td>\n",
              "      <td>0.448584</td>\n",
              "      <td>0.115713</td>\n",
              "      <td>0.433333</td>\n",
              "      <td>1.024024</td>\n",
              "      <td>0.836405</td>\n",
              "      <td>1.374513</td>\n",
              "      <td>1</td>\n",
              "    </tr>\n",
              "    <tr>\n",
              "      <th>766</th>\n",
              "      <td>0.058824</td>\n",
              "      <td>0.467337</td>\n",
              "      <td>0.573770</td>\n",
              "      <td>0.313131</td>\n",
              "      <td>0.000000</td>\n",
              "      <td>0.453055</td>\n",
              "      <td>0.101196</td>\n",
              "      <td>0.033333</td>\n",
              "      <td>0.930451</td>\n",
              "      <td>0.808485</td>\n",
              "      <td>1.360258</td>\n",
              "      <td>1</td>\n",
              "    </tr>\n",
              "  </tbody>\n",
              "</table>\n",
              "<p>767 rows × 12 columns</p>\n",
              "</div>"
            ],
            "text/plain": [
              "         preg       glu        BP  ...  dFromXmin  dFromXmax  cluster\n",
              "0    0.058824  0.427136  0.540984  ...   0.758908   1.366949        1\n",
              "1    0.470588  0.919598  0.524590  ...   0.952560   1.237763        1\n",
              "2    0.058824  0.447236  0.540984  ...   0.737935   1.356315        1\n",
              "3    0.000000  0.688442  0.327869  ...   1.305142   0.826101        0\n",
              "4    0.294118  0.582915  0.606557  ...   0.780205   1.397156        1\n",
              "..        ...       ...       ...  ...        ...        ...      ...\n",
              "762  0.588235  0.507538  0.622951  ...   1.271415   1.396105        1\n",
              "763  0.117647  0.613065  0.573770  ...   0.883077   1.292165        1\n",
              "764  0.294118  0.608040  0.590164  ...   0.825036   1.245133        1\n",
              "765  0.058824  0.633166  0.491803  ...   0.836405   1.374513        1\n",
              "766  0.058824  0.467337  0.573770  ...   0.808485   1.360258        1\n",
              "\n",
              "[767 rows x 12 columns]"
            ]
          },
          "metadata": {
            "tags": []
          },
          "execution_count": 151
        }
      ]
    },
    {
      "cell_type": "code",
      "metadata": {
        "colab": {
          "base_uri": "https://localhost:8080/"
        },
        "id": "7mkO2Ff9mK7I",
        "outputId": "ae5348a9-b31d-4a34-a83b-89b84370f755"
      },
      "source": [
        "end = time.time(); #end time\n",
        "\n",
        "print(f\"Total runtime of the program is {end - begin} seconds.\")"
      ],
      "execution_count": null,
      "outputs": [
        {
          "output_type": "stream",
          "text": [
            "Total runtime of the program is 1.1777212619781494 seconds.\n"
          ],
          "name": "stdout"
        }
      ]
    },
    {
      "cell_type": "code",
      "metadata": {
        "colab": {
          "base_uri": "https://localhost:8080/",
          "height": 419
        },
        "id": "MTZssBVoQtEu",
        "outputId": "2fa87ccb-e6d2-41a4-c432-1de74c108477"
      },
      "source": [
        "## Cluster 1\n",
        "\n",
        "df[df['cluster'] == 1]"
      ],
      "execution_count": null,
      "outputs": [
        {
          "output_type": "execute_result",
          "data": {
            "text/html": [
              "<div>\n",
              "<style scoped>\n",
              "    .dataframe tbody tr th:only-of-type {\n",
              "        vertical-align: middle;\n",
              "    }\n",
              "\n",
              "    .dataframe tbody tr th {\n",
              "        vertical-align: top;\n",
              "    }\n",
              "\n",
              "    .dataframe thead th {\n",
              "        text-align: right;\n",
              "    }\n",
              "</style>\n",
              "<table border=\"1\" class=\"dataframe\">\n",
              "  <thead>\n",
              "    <tr style=\"text-align: right;\">\n",
              "      <th></th>\n",
              "      <th>preg</th>\n",
              "      <th>glu</th>\n",
              "      <th>BP</th>\n",
              "      <th>skinTh</th>\n",
              "      <th>insulin</th>\n",
              "      <th>BMI</th>\n",
              "      <th>diaPedFun</th>\n",
              "      <th>age</th>\n",
              "      <th>dFromOrigin</th>\n",
              "      <th>dFromXmin</th>\n",
              "      <th>dFromXmax</th>\n",
              "      <th>cluster</th>\n",
              "    </tr>\n",
              "  </thead>\n",
              "  <tbody>\n",
              "    <tr>\n",
              "      <th>0</th>\n",
              "      <td>0.058824</td>\n",
              "      <td>0.427136</td>\n",
              "      <td>0.540984</td>\n",
              "      <td>0.292929</td>\n",
              "      <td>0.000000</td>\n",
              "      <td>0.396423</td>\n",
              "      <td>0.116567</td>\n",
              "      <td>0.166667</td>\n",
              "      <td>0.873437</td>\n",
              "      <td>0.758908</td>\n",
              "      <td>1.366949</td>\n",
              "      <td>1</td>\n",
              "    </tr>\n",
              "    <tr>\n",
              "      <th>1</th>\n",
              "      <td>0.470588</td>\n",
              "      <td>0.919598</td>\n",
              "      <td>0.524590</td>\n",
              "      <td>0.000000</td>\n",
              "      <td>0.000000</td>\n",
              "      <td>0.347243</td>\n",
              "      <td>0.253629</td>\n",
              "      <td>0.183333</td>\n",
              "      <td>1.249330</td>\n",
              "      <td>0.952560</td>\n",
              "      <td>1.237763</td>\n",
              "      <td>1</td>\n",
              "    </tr>\n",
              "    <tr>\n",
              "      <th>2</th>\n",
              "      <td>0.058824</td>\n",
              "      <td>0.447236</td>\n",
              "      <td>0.540984</td>\n",
              "      <td>0.232323</td>\n",
              "      <td>0.111111</td>\n",
              "      <td>0.418778</td>\n",
              "      <td>0.038002</td>\n",
              "      <td>0.000000</td>\n",
              "      <td>0.859815</td>\n",
              "      <td>0.737935</td>\n",
              "      <td>1.356315</td>\n",
              "      <td>1</td>\n",
              "    </tr>\n",
              "    <tr>\n",
              "      <th>4</th>\n",
              "      <td>0.294118</td>\n",
              "      <td>0.582915</td>\n",
              "      <td>0.606557</td>\n",
              "      <td>0.000000</td>\n",
              "      <td>0.000000</td>\n",
              "      <td>0.381520</td>\n",
              "      <td>0.052519</td>\n",
              "      <td>0.150000</td>\n",
              "      <td>0.982355</td>\n",
              "      <td>0.780205</td>\n",
              "      <td>1.397156</td>\n",
              "      <td>1</td>\n",
              "    </tr>\n",
              "    <tr>\n",
              "      <th>5</th>\n",
              "      <td>0.176471</td>\n",
              "      <td>0.391960</td>\n",
              "      <td>0.409836</td>\n",
              "      <td>0.323232</td>\n",
              "      <td>0.104019</td>\n",
              "      <td>0.461997</td>\n",
              "      <td>0.072588</td>\n",
              "      <td>0.083333</td>\n",
              "      <td>0.832883</td>\n",
              "      <td>0.713373</td>\n",
              "      <td>1.340853</td>\n",
              "      <td>1</td>\n",
              "    </tr>\n",
              "    <tr>\n",
              "      <th>...</th>\n",
              "      <td>...</td>\n",
              "      <td>...</td>\n",
              "      <td>...</td>\n",
              "      <td>...</td>\n",
              "      <td>...</td>\n",
              "      <td>...</td>\n",
              "      <td>...</td>\n",
              "      <td>...</td>\n",
              "      <td>...</td>\n",
              "      <td>...</td>\n",
              "      <td>...</td>\n",
              "      <td>...</td>\n",
              "    </tr>\n",
              "    <tr>\n",
              "      <th>762</th>\n",
              "      <td>0.588235</td>\n",
              "      <td>0.507538</td>\n",
              "      <td>0.622951</td>\n",
              "      <td>0.484848</td>\n",
              "      <td>0.212766</td>\n",
              "      <td>0.490313</td>\n",
              "      <td>0.039710</td>\n",
              "      <td>0.700000</td>\n",
              "      <td>1.415632</td>\n",
              "      <td>1.271415</td>\n",
              "      <td>1.396105</td>\n",
              "      <td>1</td>\n",
              "    </tr>\n",
              "    <tr>\n",
              "      <th>763</th>\n",
              "      <td>0.117647</td>\n",
              "      <td>0.613065</td>\n",
              "      <td>0.573770</td>\n",
              "      <td>0.272727</td>\n",
              "      <td>0.000000</td>\n",
              "      <td>0.548435</td>\n",
              "      <td>0.111870</td>\n",
              "      <td>0.100000</td>\n",
              "      <td>1.056683</td>\n",
              "      <td>0.883077</td>\n",
              "      <td>1.292165</td>\n",
              "      <td>1</td>\n",
              "    </tr>\n",
              "    <tr>\n",
              "      <th>764</th>\n",
              "      <td>0.294118</td>\n",
              "      <td>0.608040</td>\n",
              "      <td>0.590164</td>\n",
              "      <td>0.232323</td>\n",
              "      <td>0.132388</td>\n",
              "      <td>0.390462</td>\n",
              "      <td>0.071307</td>\n",
              "      <td>0.150000</td>\n",
              "      <td>1.027647</td>\n",
              "      <td>0.825036</td>\n",
              "      <td>1.245133</td>\n",
              "      <td>1</td>\n",
              "    </tr>\n",
              "    <tr>\n",
              "      <th>765</th>\n",
              "      <td>0.058824</td>\n",
              "      <td>0.633166</td>\n",
              "      <td>0.491803</td>\n",
              "      <td>0.000000</td>\n",
              "      <td>0.000000</td>\n",
              "      <td>0.448584</td>\n",
              "      <td>0.115713</td>\n",
              "      <td>0.433333</td>\n",
              "      <td>1.024024</td>\n",
              "      <td>0.836405</td>\n",
              "      <td>1.374513</td>\n",
              "      <td>1</td>\n",
              "    </tr>\n",
              "    <tr>\n",
              "      <th>766</th>\n",
              "      <td>0.058824</td>\n",
              "      <td>0.467337</td>\n",
              "      <td>0.573770</td>\n",
              "      <td>0.313131</td>\n",
              "      <td>0.000000</td>\n",
              "      <td>0.453055</td>\n",
              "      <td>0.101196</td>\n",
              "      <td>0.033333</td>\n",
              "      <td>0.930451</td>\n",
              "      <td>0.808485</td>\n",
              "      <td>1.360258</td>\n",
              "      <td>1</td>\n",
              "    </tr>\n",
              "  </tbody>\n",
              "</table>\n",
              "<p>663 rows × 12 columns</p>\n",
              "</div>"
            ],
            "text/plain": [
              "         preg       glu        BP  ...  dFromXmin  dFromXmax  cluster\n",
              "0    0.058824  0.427136  0.540984  ...   0.758908   1.366949        1\n",
              "1    0.470588  0.919598  0.524590  ...   0.952560   1.237763        1\n",
              "2    0.058824  0.447236  0.540984  ...   0.737935   1.356315        1\n",
              "4    0.294118  0.582915  0.606557  ...   0.780205   1.397156        1\n",
              "5    0.176471  0.391960  0.409836  ...   0.713373   1.340853        1\n",
              "..        ...       ...       ...  ...        ...        ...      ...\n",
              "762  0.588235  0.507538  0.622951  ...   1.271415   1.396105        1\n",
              "763  0.117647  0.613065  0.573770  ...   0.883077   1.292165        1\n",
              "764  0.294118  0.608040  0.590164  ...   0.825036   1.245133        1\n",
              "765  0.058824  0.633166  0.491803  ...   0.836405   1.374513        1\n",
              "766  0.058824  0.467337  0.573770  ...   0.808485   1.360258        1\n",
              "\n",
              "[663 rows x 12 columns]"
            ]
          },
          "metadata": {
            "tags": []
          },
          "execution_count": 153
        }
      ]
    },
    {
      "cell_type": "code",
      "metadata": {
        "colab": {
          "base_uri": "https://localhost:8080/",
          "height": 419
        },
        "id": "ZzWqQc2cQyVH",
        "outputId": "5867fc37-959b-467f-cd94-8377eb7efd4d"
      },
      "source": [
        "## Cluster 0\n",
        "\n",
        "df[df['cluster'] == 0]"
      ],
      "execution_count": null,
      "outputs": [
        {
          "output_type": "execute_result",
          "data": {
            "text/html": [
              "<div>\n",
              "<style scoped>\n",
              "    .dataframe tbody tr th:only-of-type {\n",
              "        vertical-align: middle;\n",
              "    }\n",
              "\n",
              "    .dataframe tbody tr th {\n",
              "        vertical-align: top;\n",
              "    }\n",
              "\n",
              "    .dataframe thead th {\n",
              "        text-align: right;\n",
              "    }\n",
              "</style>\n",
              "<table border=\"1\" class=\"dataframe\">\n",
              "  <thead>\n",
              "    <tr style=\"text-align: right;\">\n",
              "      <th></th>\n",
              "      <th>preg</th>\n",
              "      <th>glu</th>\n",
              "      <th>BP</th>\n",
              "      <th>skinTh</th>\n",
              "      <th>insulin</th>\n",
              "      <th>BMI</th>\n",
              "      <th>diaPedFun</th>\n",
              "      <th>age</th>\n",
              "      <th>dFromOrigin</th>\n",
              "      <th>dFromXmin</th>\n",
              "      <th>dFromXmax</th>\n",
              "      <th>cluster</th>\n",
              "    </tr>\n",
              "  </thead>\n",
              "  <tbody>\n",
              "    <tr>\n",
              "      <th>3</th>\n",
              "      <td>0.000000</td>\n",
              "      <td>0.688442</td>\n",
              "      <td>0.327869</td>\n",
              "      <td>0.353535</td>\n",
              "      <td>0.198582</td>\n",
              "      <td>0.642325</td>\n",
              "      <td>0.943638</td>\n",
              "      <td>0.200000</td>\n",
              "      <td>1.445305</td>\n",
              "      <td>1.305142</td>\n",
              "      <td>0.826101</td>\n",
              "      <td>0</td>\n",
              "    </tr>\n",
              "    <tr>\n",
              "      <th>7</th>\n",
              "      <td>0.117647</td>\n",
              "      <td>0.989950</td>\n",
              "      <td>0.573770</td>\n",
              "      <td>0.454545</td>\n",
              "      <td>0.641844</td>\n",
              "      <td>0.454545</td>\n",
              "      <td>0.034159</td>\n",
              "      <td>0.533333</td>\n",
              "      <td>1.560081</td>\n",
              "      <td>1.343113</td>\n",
              "      <td>1.037423</td>\n",
              "      <td>0</td>\n",
              "    </tr>\n",
              "    <tr>\n",
              "      <th>11</th>\n",
              "      <td>0.588235</td>\n",
              "      <td>0.698492</td>\n",
              "      <td>0.655738</td>\n",
              "      <td>0.000000</td>\n",
              "      <td>0.000000</td>\n",
              "      <td>0.403875</td>\n",
              "      <td>0.581981</td>\n",
              "      <td>0.600000</td>\n",
              "      <td>1.457985</td>\n",
              "      <td>1.260320</td>\n",
              "      <td>1.223452</td>\n",
              "      <td>0</td>\n",
              "    </tr>\n",
              "    <tr>\n",
              "      <th>12</th>\n",
              "      <td>0.058824</td>\n",
              "      <td>0.949749</td>\n",
              "      <td>0.491803</td>\n",
              "      <td>0.232323</td>\n",
              "      <td>1.000000</td>\n",
              "      <td>0.448584</td>\n",
              "      <td>0.136635</td>\n",
              "      <td>0.633333</td>\n",
              "      <td>1.679981</td>\n",
              "      <td>1.493566</td>\n",
              "      <td>0.993680</td>\n",
              "      <td>0</td>\n",
              "    </tr>\n",
              "    <tr>\n",
              "      <th>15</th>\n",
              "      <td>0.000000</td>\n",
              "      <td>0.592965</td>\n",
              "      <td>0.688525</td>\n",
              "      <td>0.474747</td>\n",
              "      <td>0.271868</td>\n",
              "      <td>0.682563</td>\n",
              "      <td>0.201964</td>\n",
              "      <td>0.166667</td>\n",
              "      <td>1.288189</td>\n",
              "      <td>1.166722</td>\n",
              "      <td>1.093865</td>\n",
              "      <td>0</td>\n",
              "    </tr>\n",
              "    <tr>\n",
              "      <th>...</th>\n",
              "      <td>...</td>\n",
              "      <td>...</td>\n",
              "      <td>...</td>\n",
              "      <td>...</td>\n",
              "      <td>...</td>\n",
              "      <td>...</td>\n",
              "      <td>...</td>\n",
              "      <td>...</td>\n",
              "      <td>...</td>\n",
              "      <td>...</td>\n",
              "      <td>...</td>\n",
              "      <td>...</td>\n",
              "    </tr>\n",
              "    <tr>\n",
              "      <th>731</th>\n",
              "      <td>0.117647</td>\n",
              "      <td>0.874372</td>\n",
              "      <td>0.721311</td>\n",
              "      <td>0.373737</td>\n",
              "      <td>0.141844</td>\n",
              "      <td>0.663189</td>\n",
              "      <td>0.242528</td>\n",
              "      <td>0.050000</td>\n",
              "      <td>1.399856</td>\n",
              "      <td>1.194778</td>\n",
              "      <td>1.066277</td>\n",
              "      <td>0</td>\n",
              "    </tr>\n",
              "    <tr>\n",
              "      <th>739</th>\n",
              "      <td>0.647059</td>\n",
              "      <td>0.603015</td>\n",
              "      <td>0.655738</td>\n",
              "      <td>0.373737</td>\n",
              "      <td>0.177305</td>\n",
              "      <td>0.630402</td>\n",
              "      <td>0.301879</td>\n",
              "      <td>0.450000</td>\n",
              "      <td>1.440298</td>\n",
              "      <td>1.266906</td>\n",
              "      <td>1.158125</td>\n",
              "      <td>0</td>\n",
              "    </tr>\n",
              "    <tr>\n",
              "      <th>743</th>\n",
              "      <td>0.764706</td>\n",
              "      <td>0.768844</td>\n",
              "      <td>0.721311</td>\n",
              "      <td>0.373737</td>\n",
              "      <td>0.165485</td>\n",
              "      <td>0.605067</td>\n",
              "      <td>0.467976</td>\n",
              "      <td>0.300000</td>\n",
              "      <td>1.593223</td>\n",
              "      <td>1.385473</td>\n",
              "      <td>1.060865</td>\n",
              "      <td>0</td>\n",
              "    </tr>\n",
              "    <tr>\n",
              "      <th>752</th>\n",
              "      <td>0.000000</td>\n",
              "      <td>0.909548</td>\n",
              "      <td>0.721311</td>\n",
              "      <td>0.444444</td>\n",
              "      <td>0.602837</td>\n",
              "      <td>0.645306</td>\n",
              "      <td>0.061486</td>\n",
              "      <td>0.083333</td>\n",
              "      <td>1.528285</td>\n",
              "      <td>1.344497</td>\n",
              "      <td>0.994312</td>\n",
              "      <td>0</td>\n",
              "    </tr>\n",
              "    <tr>\n",
              "      <th>754</th>\n",
              "      <td>0.058824</td>\n",
              "      <td>0.643216</td>\n",
              "      <td>0.721311</td>\n",
              "      <td>0.393939</td>\n",
              "      <td>0.130024</td>\n",
              "      <td>0.543964</td>\n",
              "      <td>0.418019</td>\n",
              "      <td>0.266667</td>\n",
              "      <td>1.285037</td>\n",
              "      <td>1.137609</td>\n",
              "      <td>1.019678</td>\n",
              "      <td>0</td>\n",
              "    </tr>\n",
              "  </tbody>\n",
              "</table>\n",
              "<p>104 rows × 12 columns</p>\n",
              "</div>"
            ],
            "text/plain": [
              "         preg       glu        BP  ...  dFromXmin  dFromXmax  cluster\n",
              "3    0.000000  0.688442  0.327869  ...   1.305142   0.826101        0\n",
              "7    0.117647  0.989950  0.573770  ...   1.343113   1.037423        0\n",
              "11   0.588235  0.698492  0.655738  ...   1.260320   1.223452        0\n",
              "12   0.058824  0.949749  0.491803  ...   1.493566   0.993680        0\n",
              "15   0.000000  0.592965  0.688525  ...   1.166722   1.093865        0\n",
              "..        ...       ...       ...  ...        ...        ...      ...\n",
              "731  0.117647  0.874372  0.721311  ...   1.194778   1.066277        0\n",
              "739  0.647059  0.603015  0.655738  ...   1.266906   1.158125        0\n",
              "743  0.764706  0.768844  0.721311  ...   1.385473   1.060865        0\n",
              "752  0.000000  0.909548  0.721311  ...   1.344497   0.994312        0\n",
              "754  0.058824  0.643216  0.721311  ...   1.137609   1.019678        0\n",
              "\n",
              "[104 rows x 12 columns]"
            ]
          },
          "metadata": {
            "tags": []
          },
          "execution_count": 154
        }
      ]
    },
    {
      "cell_type": "code",
      "metadata": {
        "id": "QBL3_rlEQ1qf"
      },
      "source": [
        "from sklearn.naive_bayes import GaussianNB\n",
        " \n",
        "df2 = df.copy()\n",
        "\n",
        "## some formatting\n",
        "del df2['dFromOrigin']\n",
        "del df2['dFromXmin']\n",
        "del df2['dFromXmax']"
      ],
      "execution_count": null,
      "outputs": []
    },
    {
      "cell_type": "code",
      "metadata": {
        "colab": {
          "base_uri": "https://localhost:8080/",
          "height": 419
        },
        "id": "A_mqktnV9iHZ",
        "outputId": "c220be0e-d622-4ef1-db7e-558ad98fd23e"
      },
      "source": [
        "df3 = df2.copy()\n",
        "df4 = df2.copy()\n",
        "del df3['cluster']\n",
        "df3['class'] = originalDf['class']\n",
        "df3"
      ],
      "execution_count": null,
      "outputs": [
        {
          "output_type": "execute_result",
          "data": {
            "text/html": [
              "<div>\n",
              "<style scoped>\n",
              "    .dataframe tbody tr th:only-of-type {\n",
              "        vertical-align: middle;\n",
              "    }\n",
              "\n",
              "    .dataframe tbody tr th {\n",
              "        vertical-align: top;\n",
              "    }\n",
              "\n",
              "    .dataframe thead th {\n",
              "        text-align: right;\n",
              "    }\n",
              "</style>\n",
              "<table border=\"1\" class=\"dataframe\">\n",
              "  <thead>\n",
              "    <tr style=\"text-align: right;\">\n",
              "      <th></th>\n",
              "      <th>preg</th>\n",
              "      <th>glu</th>\n",
              "      <th>BP</th>\n",
              "      <th>skinTh</th>\n",
              "      <th>insulin</th>\n",
              "      <th>BMI</th>\n",
              "      <th>diaPedFun</th>\n",
              "      <th>age</th>\n",
              "      <th>class</th>\n",
              "    </tr>\n",
              "  </thead>\n",
              "  <tbody>\n",
              "    <tr>\n",
              "      <th>0</th>\n",
              "      <td>0.058824</td>\n",
              "      <td>0.427136</td>\n",
              "      <td>0.540984</td>\n",
              "      <td>0.292929</td>\n",
              "      <td>0.000000</td>\n",
              "      <td>0.396423</td>\n",
              "      <td>0.116567</td>\n",
              "      <td>0.166667</td>\n",
              "      <td>0</td>\n",
              "    </tr>\n",
              "    <tr>\n",
              "      <th>1</th>\n",
              "      <td>0.470588</td>\n",
              "      <td>0.919598</td>\n",
              "      <td>0.524590</td>\n",
              "      <td>0.000000</td>\n",
              "      <td>0.000000</td>\n",
              "      <td>0.347243</td>\n",
              "      <td>0.253629</td>\n",
              "      <td>0.183333</td>\n",
              "      <td>1</td>\n",
              "    </tr>\n",
              "    <tr>\n",
              "      <th>2</th>\n",
              "      <td>0.058824</td>\n",
              "      <td>0.447236</td>\n",
              "      <td>0.540984</td>\n",
              "      <td>0.232323</td>\n",
              "      <td>0.111111</td>\n",
              "      <td>0.418778</td>\n",
              "      <td>0.038002</td>\n",
              "      <td>0.000000</td>\n",
              "      <td>0</td>\n",
              "    </tr>\n",
              "    <tr>\n",
              "      <th>3</th>\n",
              "      <td>0.000000</td>\n",
              "      <td>0.688442</td>\n",
              "      <td>0.327869</td>\n",
              "      <td>0.353535</td>\n",
              "      <td>0.198582</td>\n",
              "      <td>0.642325</td>\n",
              "      <td>0.943638</td>\n",
              "      <td>0.200000</td>\n",
              "      <td>1</td>\n",
              "    </tr>\n",
              "    <tr>\n",
              "      <th>4</th>\n",
              "      <td>0.294118</td>\n",
              "      <td>0.582915</td>\n",
              "      <td>0.606557</td>\n",
              "      <td>0.000000</td>\n",
              "      <td>0.000000</td>\n",
              "      <td>0.381520</td>\n",
              "      <td>0.052519</td>\n",
              "      <td>0.150000</td>\n",
              "      <td>0</td>\n",
              "    </tr>\n",
              "    <tr>\n",
              "      <th>...</th>\n",
              "      <td>...</td>\n",
              "      <td>...</td>\n",
              "      <td>...</td>\n",
              "      <td>...</td>\n",
              "      <td>...</td>\n",
              "      <td>...</td>\n",
              "      <td>...</td>\n",
              "      <td>...</td>\n",
              "      <td>...</td>\n",
              "    </tr>\n",
              "    <tr>\n",
              "      <th>762</th>\n",
              "      <td>0.588235</td>\n",
              "      <td>0.507538</td>\n",
              "      <td>0.622951</td>\n",
              "      <td>0.484848</td>\n",
              "      <td>0.212766</td>\n",
              "      <td>0.490313</td>\n",
              "      <td>0.039710</td>\n",
              "      <td>0.700000</td>\n",
              "      <td>0</td>\n",
              "    </tr>\n",
              "    <tr>\n",
              "      <th>763</th>\n",
              "      <td>0.117647</td>\n",
              "      <td>0.613065</td>\n",
              "      <td>0.573770</td>\n",
              "      <td>0.272727</td>\n",
              "      <td>0.000000</td>\n",
              "      <td>0.548435</td>\n",
              "      <td>0.111870</td>\n",
              "      <td>0.100000</td>\n",
              "      <td>0</td>\n",
              "    </tr>\n",
              "    <tr>\n",
              "      <th>764</th>\n",
              "      <td>0.294118</td>\n",
              "      <td>0.608040</td>\n",
              "      <td>0.590164</td>\n",
              "      <td>0.232323</td>\n",
              "      <td>0.132388</td>\n",
              "      <td>0.390462</td>\n",
              "      <td>0.071307</td>\n",
              "      <td>0.150000</td>\n",
              "      <td>0</td>\n",
              "    </tr>\n",
              "    <tr>\n",
              "      <th>765</th>\n",
              "      <td>0.058824</td>\n",
              "      <td>0.633166</td>\n",
              "      <td>0.491803</td>\n",
              "      <td>0.000000</td>\n",
              "      <td>0.000000</td>\n",
              "      <td>0.448584</td>\n",
              "      <td>0.115713</td>\n",
              "      <td>0.433333</td>\n",
              "      <td>1</td>\n",
              "    </tr>\n",
              "    <tr>\n",
              "      <th>766</th>\n",
              "      <td>0.058824</td>\n",
              "      <td>0.467337</td>\n",
              "      <td>0.573770</td>\n",
              "      <td>0.313131</td>\n",
              "      <td>0.000000</td>\n",
              "      <td>0.453055</td>\n",
              "      <td>0.101196</td>\n",
              "      <td>0.033333</td>\n",
              "      <td>0</td>\n",
              "    </tr>\n",
              "  </tbody>\n",
              "</table>\n",
              "<p>767 rows × 9 columns</p>\n",
              "</div>"
            ],
            "text/plain": [
              "         preg       glu        BP  ...  diaPedFun       age  class\n",
              "0    0.058824  0.427136  0.540984  ...   0.116567  0.166667      0\n",
              "1    0.470588  0.919598  0.524590  ...   0.253629  0.183333      1\n",
              "2    0.058824  0.447236  0.540984  ...   0.038002  0.000000      0\n",
              "3    0.000000  0.688442  0.327869  ...   0.943638  0.200000      1\n",
              "4    0.294118  0.582915  0.606557  ...   0.052519  0.150000      0\n",
              "..        ...       ...       ...  ...        ...       ...    ...\n",
              "762  0.588235  0.507538  0.622951  ...   0.039710  0.700000      0\n",
              "763  0.117647  0.613065  0.573770  ...   0.111870  0.100000      0\n",
              "764  0.294118  0.608040  0.590164  ...   0.071307  0.150000      0\n",
              "765  0.058824  0.633166  0.491803  ...   0.115713  0.433333      1\n",
              "766  0.058824  0.467337  0.573770  ...   0.101196  0.033333      0\n",
              "\n",
              "[767 rows x 9 columns]"
            ]
          },
          "metadata": {
            "tags": []
          },
          "execution_count": 156
        }
      ]
    },
    {
      "cell_type": "code",
      "metadata": {
        "colab": {
          "base_uri": "https://localhost:8080/",
          "height": 419
        },
        "id": "pCclTT3F_Td-",
        "outputId": "f82ccc5c-fc06-4f82-e74f-bfcf5b982bd6"
      },
      "source": [
        " ## Eliminating wrongly clustered tuples\n",
        " \n",
        "for i in range(rows):\n",
        "  if (df2['cluster'].iloc[i] == df3['class'].iloc[i]):\n",
        "    df4 = df4.drop(labels=i, axis=0)\n",
        "    \n",
        "df4"
      ],
      "execution_count": null,
      "outputs": [
        {
          "output_type": "execute_result",
          "data": {
            "text/html": [
              "<div>\n",
              "<style scoped>\n",
              "    .dataframe tbody tr th:only-of-type {\n",
              "        vertical-align: middle;\n",
              "    }\n",
              "\n",
              "    .dataframe tbody tr th {\n",
              "        vertical-align: top;\n",
              "    }\n",
              "\n",
              "    .dataframe thead th {\n",
              "        text-align: right;\n",
              "    }\n",
              "</style>\n",
              "<table border=\"1\" class=\"dataframe\">\n",
              "  <thead>\n",
              "    <tr style=\"text-align: right;\">\n",
              "      <th></th>\n",
              "      <th>preg</th>\n",
              "      <th>glu</th>\n",
              "      <th>BP</th>\n",
              "      <th>skinTh</th>\n",
              "      <th>insulin</th>\n",
              "      <th>BMI</th>\n",
              "      <th>diaPedFun</th>\n",
              "      <th>age</th>\n",
              "      <th>cluster</th>\n",
              "    </tr>\n",
              "  </thead>\n",
              "  <tbody>\n",
              "    <tr>\n",
              "      <th>0</th>\n",
              "      <td>0.058824</td>\n",
              "      <td>0.427136</td>\n",
              "      <td>0.540984</td>\n",
              "      <td>0.292929</td>\n",
              "      <td>0.000000</td>\n",
              "      <td>0.396423</td>\n",
              "      <td>0.116567</td>\n",
              "      <td>0.166667</td>\n",
              "      <td>1</td>\n",
              "    </tr>\n",
              "    <tr>\n",
              "      <th>2</th>\n",
              "      <td>0.058824</td>\n",
              "      <td>0.447236</td>\n",
              "      <td>0.540984</td>\n",
              "      <td>0.232323</td>\n",
              "      <td>0.111111</td>\n",
              "      <td>0.418778</td>\n",
              "      <td>0.038002</td>\n",
              "      <td>0.000000</td>\n",
              "      <td>1</td>\n",
              "    </tr>\n",
              "    <tr>\n",
              "      <th>3</th>\n",
              "      <td>0.000000</td>\n",
              "      <td>0.688442</td>\n",
              "      <td>0.327869</td>\n",
              "      <td>0.353535</td>\n",
              "      <td>0.198582</td>\n",
              "      <td>0.642325</td>\n",
              "      <td>0.943638</td>\n",
              "      <td>0.200000</td>\n",
              "      <td>0</td>\n",
              "    </tr>\n",
              "    <tr>\n",
              "      <th>4</th>\n",
              "      <td>0.294118</td>\n",
              "      <td>0.582915</td>\n",
              "      <td>0.606557</td>\n",
              "      <td>0.000000</td>\n",
              "      <td>0.000000</td>\n",
              "      <td>0.381520</td>\n",
              "      <td>0.052519</td>\n",
              "      <td>0.150000</td>\n",
              "      <td>1</td>\n",
              "    </tr>\n",
              "    <tr>\n",
              "      <th>6</th>\n",
              "      <td>0.588235</td>\n",
              "      <td>0.577889</td>\n",
              "      <td>0.000000</td>\n",
              "      <td>0.000000</td>\n",
              "      <td>0.000000</td>\n",
              "      <td>0.526080</td>\n",
              "      <td>0.023911</td>\n",
              "      <td>0.133333</td>\n",
              "      <td>1</td>\n",
              "    </tr>\n",
              "    <tr>\n",
              "      <th>...</th>\n",
              "      <td>...</td>\n",
              "      <td>...</td>\n",
              "      <td>...</td>\n",
              "      <td>...</td>\n",
              "      <td>...</td>\n",
              "      <td>...</td>\n",
              "      <td>...</td>\n",
              "      <td>...</td>\n",
              "      <td>...</td>\n",
              "    </tr>\n",
              "    <tr>\n",
              "      <th>761</th>\n",
              "      <td>0.529412</td>\n",
              "      <td>0.447236</td>\n",
              "      <td>0.508197</td>\n",
              "      <td>0.000000</td>\n",
              "      <td>0.000000</td>\n",
              "      <td>0.335320</td>\n",
              "      <td>0.027327</td>\n",
              "      <td>0.200000</td>\n",
              "      <td>1</td>\n",
              "    </tr>\n",
              "    <tr>\n",
              "      <th>762</th>\n",
              "      <td>0.588235</td>\n",
              "      <td>0.507538</td>\n",
              "      <td>0.622951</td>\n",
              "      <td>0.484848</td>\n",
              "      <td>0.212766</td>\n",
              "      <td>0.490313</td>\n",
              "      <td>0.039710</td>\n",
              "      <td>0.700000</td>\n",
              "      <td>1</td>\n",
              "    </tr>\n",
              "    <tr>\n",
              "      <th>763</th>\n",
              "      <td>0.117647</td>\n",
              "      <td>0.613065</td>\n",
              "      <td>0.573770</td>\n",
              "      <td>0.272727</td>\n",
              "      <td>0.000000</td>\n",
              "      <td>0.548435</td>\n",
              "      <td>0.111870</td>\n",
              "      <td>0.100000</td>\n",
              "      <td>1</td>\n",
              "    </tr>\n",
              "    <tr>\n",
              "      <th>764</th>\n",
              "      <td>0.294118</td>\n",
              "      <td>0.608040</td>\n",
              "      <td>0.590164</td>\n",
              "      <td>0.232323</td>\n",
              "      <td>0.132388</td>\n",
              "      <td>0.390462</td>\n",
              "      <td>0.071307</td>\n",
              "      <td>0.150000</td>\n",
              "      <td>1</td>\n",
              "    </tr>\n",
              "    <tr>\n",
              "      <th>766</th>\n",
              "      <td>0.058824</td>\n",
              "      <td>0.467337</td>\n",
              "      <td>0.573770</td>\n",
              "      <td>0.313131</td>\n",
              "      <td>0.000000</td>\n",
              "      <td>0.453055</td>\n",
              "      <td>0.101196</td>\n",
              "      <td>0.033333</td>\n",
              "      <td>1</td>\n",
              "    </tr>\n",
              "  </tbody>\n",
              "</table>\n",
              "<p>542 rows × 9 columns</p>\n",
              "</div>"
            ],
            "text/plain": [
              "         preg       glu        BP  ...  diaPedFun       age  cluster\n",
              "0    0.058824  0.427136  0.540984  ...   0.116567  0.166667        1\n",
              "2    0.058824  0.447236  0.540984  ...   0.038002  0.000000        1\n",
              "3    0.000000  0.688442  0.327869  ...   0.943638  0.200000        0\n",
              "4    0.294118  0.582915  0.606557  ...   0.052519  0.150000        1\n",
              "6    0.588235  0.577889  0.000000  ...   0.023911  0.133333        1\n",
              "..        ...       ...       ...  ...        ...       ...      ...\n",
              "761  0.529412  0.447236  0.508197  ...   0.027327  0.200000        1\n",
              "762  0.588235  0.507538  0.622951  ...   0.039710  0.700000        1\n",
              "763  0.117647  0.613065  0.573770  ...   0.111870  0.100000        1\n",
              "764  0.294118  0.608040  0.590164  ...   0.071307  0.150000        1\n",
              "766  0.058824  0.467337  0.573770  ...   0.101196  0.033333        1\n",
              "\n",
              "[542 rows x 9 columns]"
            ]
          },
          "metadata": {
            "tags": []
          },
          "execution_count": 157
        }
      ]
    },
    {
      "cell_type": "code",
      "metadata": {
        "colab": {
          "base_uri": "https://localhost:8080/"
        },
        "id": "N2TW3GfYdEaw",
        "outputId": "d358e1fc-be41-4d59-b610-e7ba8ee92db1"
      },
      "source": [
        "## Class 0\n",
        "\n",
        "df4[df4['cluster'] == 0].shape"
      ],
      "execution_count": null,
      "outputs": [
        {
          "output_type": "execute_result",
          "data": {
            "text/plain": [
              "(73, 9)"
            ]
          },
          "metadata": {
            "tags": []
          },
          "execution_count": 158
        }
      ]
    },
    {
      "cell_type": "code",
      "metadata": {
        "colab": {
          "base_uri": "https://localhost:8080/"
        },
        "id": "PinL8HR6dLkD",
        "outputId": "941580d0-35ff-46b6-eaf5-1f5ed6d5c2f5"
      },
      "source": [
        "##Class 1\n",
        "\n",
        "df4[df4['cluster'] == 1].shape"
      ],
      "execution_count": null,
      "outputs": [
        {
          "output_type": "execute_result",
          "data": {
            "text/plain": [
              "(469, 9)"
            ]
          },
          "metadata": {
            "tags": []
          },
          "execution_count": 159
        }
      ]
    },
    {
      "cell_type": "code",
      "metadata": {
        "id": "HvsjFrvA-0C-"
      },
      "source": [
        "inputs = df4.drop('cluster', axis=1)\n",
        "target = df4['cluster']"
      ],
      "execution_count": null,
      "outputs": []
    },
    {
      "cell_type": "code",
      "metadata": {
        "id": "5ZDg34lxgDm7"
      },
      "source": [
        "# Splitting test and train datasets\n",
        "\n",
        "from sklearn.model_selection import train_test_split\n",
        "\n",
        "X_train, X_test, y_train, y_test = train_test_split(inputs, target, test_size=0.3, shuffle=False)\n",
        "\n",
        "# X_train  ---> Training data without class label\n",
        "# y_train  ---> Training class labels of X_train\n",
        "\n",
        "# X_test  ---> Testing data without class label\n",
        "# y_test  ---> Testing class labels of X_test"
      ],
      "execution_count": null,
      "outputs": []
    },
    {
      "cell_type": "code",
      "metadata": {
        "colab": {
          "base_uri": "https://localhost:8080/"
        },
        "id": "BjmRpRTz3ava",
        "outputId": "1ad505b5-97ab-4bb4-a7d3-1a156d290275"
      },
      "source": [
        "X_train.shape  ## Training data without class label"
      ],
      "execution_count": null,
      "outputs": [
        {
          "output_type": "execute_result",
          "data": {
            "text/plain": [
              "(379, 8)"
            ]
          },
          "metadata": {
            "tags": []
          },
          "execution_count": 162
        }
      ]
    },
    {
      "cell_type": "code",
      "metadata": {
        "colab": {
          "base_uri": "https://localhost:8080/"
        },
        "id": "tH0-QApH3ap8",
        "outputId": "dfcfb35a-7590-451a-cb9c-484969163319"
      },
      "source": [
        "X_test.shape  ## Testing data without class label"
      ],
      "execution_count": null,
      "outputs": [
        {
          "output_type": "execute_result",
          "data": {
            "text/plain": [
              "(163, 8)"
            ]
          },
          "metadata": {
            "tags": []
          },
          "execution_count": 163
        }
      ]
    },
    {
      "cell_type": "code",
      "metadata": {
        "colab": {
          "base_uri": "https://localhost:8080/"
        },
        "id": "WgTmGvVA3ahK",
        "outputId": "b5bb2e28-cbbf-4f6b-cb18-84fe88efe25c"
      },
      "source": [
        "y_train.shape  ## Training class labels of X_train"
      ],
      "execution_count": null,
      "outputs": [
        {
          "output_type": "execute_result",
          "data": {
            "text/plain": [
              "(379,)"
            ]
          },
          "metadata": {
            "tags": []
          },
          "execution_count": 164
        }
      ]
    },
    {
      "cell_type": "code",
      "metadata": {
        "colab": {
          "base_uri": "https://localhost:8080/"
        },
        "id": "jeoNUg8O3aG6",
        "outputId": "f4b4f3b3-d242-49a3-b40a-24841c147ea3"
      },
      "source": [
        "y_test.shape  ## Testing class labels of X_test"
      ],
      "execution_count": null,
      "outputs": [
        {
          "output_type": "execute_result",
          "data": {
            "text/plain": [
              "(163,)"
            ]
          },
          "metadata": {
            "tags": []
          },
          "execution_count": 165
        }
      ]
    },
    {
      "cell_type": "code",
      "metadata": {
        "id": "eJLuQVADgImU"
      },
      "source": [
        "## Importing GaussianNB model\n",
        "\n",
        "from sklearn.naive_bayes import GaussianNB\n",
        "\n",
        "model = GaussianNB()"
      ],
      "execution_count": null,
      "outputs": []
    },
    {
      "cell_type": "code",
      "metadata": {
        "id": "Cj3e0hHOgQFN",
        "colab": {
          "base_uri": "https://localhost:8080/"
        },
        "outputId": "c564243c-06f6-4349-b55f-c2375f0bf01a"
      },
      "source": [
        "## Building the model\n",
        "\n",
        "model.fit(X_train,y_train)"
      ],
      "execution_count": null,
      "outputs": [
        {
          "output_type": "execute_result",
          "data": {
            "text/plain": [
              "GaussianNB(priors=None, var_smoothing=1e-09)"
            ]
          },
          "metadata": {
            "tags": []
          },
          "execution_count": 167
        }
      ]
    },
    {
      "cell_type": "code",
      "metadata": {
        "id": "YKrGJIpIgWrA",
        "colab": {
          "base_uri": "https://localhost:8080/"
        },
        "outputId": "4f5d7bc5-4a67-4009-ee32-d5056488c0ff"
      },
      "source": [
        "## Model accuracy\n",
        "\n",
        "model.score(X_test,y_test)"
      ],
      "execution_count": null,
      "outputs": [
        {
          "output_type": "execute_result",
          "data": {
            "text/plain": [
              "0.9693251533742331"
            ]
          },
          "metadata": {
            "tags": []
          },
          "execution_count": 168
        }
      ]
    },
    {
      "cell_type": "code",
      "metadata": {
        "id": "d_JJrNM-gXWD",
        "colab": {
          "base_uri": "https://localhost:8080/",
          "height": 359
        },
        "outputId": "13aea9d3-b613-4501-9d4f-0416e59bf7ef"
      },
      "source": [
        "## Selecting a small part of X_test (first 10 in this case)\n",
        "\n",
        "X_test[0:10]"
      ],
      "execution_count": null,
      "outputs": [
        {
          "output_type": "execute_result",
          "data": {
            "text/html": [
              "<div>\n",
              "<style scoped>\n",
              "    .dataframe tbody tr th:only-of-type {\n",
              "        vertical-align: middle;\n",
              "    }\n",
              "\n",
              "    .dataframe tbody tr th {\n",
              "        vertical-align: top;\n",
              "    }\n",
              "\n",
              "    .dataframe thead th {\n",
              "        text-align: right;\n",
              "    }\n",
              "</style>\n",
              "<table border=\"1\" class=\"dataframe\">\n",
              "  <thead>\n",
              "    <tr style=\"text-align: right;\">\n",
              "      <th></th>\n",
              "      <th>preg</th>\n",
              "      <th>glu</th>\n",
              "      <th>BP</th>\n",
              "      <th>skinTh</th>\n",
              "      <th>insulin</th>\n",
              "      <th>BMI</th>\n",
              "      <th>diaPedFun</th>\n",
              "      <th>age</th>\n",
              "    </tr>\n",
              "  </thead>\n",
              "  <tbody>\n",
              "    <tr>\n",
              "      <th>543</th>\n",
              "      <td>0.058824</td>\n",
              "      <td>0.442211</td>\n",
              "      <td>0.639344</td>\n",
              "      <td>0.292929</td>\n",
              "      <td>0.089835</td>\n",
              "      <td>0.476900</td>\n",
              "      <td>0.122545</td>\n",
              "      <td>0.133333</td>\n",
              "    </tr>\n",
              "    <tr>\n",
              "      <th>544</th>\n",
              "      <td>0.470588</td>\n",
              "      <td>0.934673</td>\n",
              "      <td>0.737705</td>\n",
              "      <td>0.353535</td>\n",
              "      <td>0.265957</td>\n",
              "      <td>0.514158</td>\n",
              "      <td>0.147310</td>\n",
              "      <td>0.266667</td>\n",
              "    </tr>\n",
              "    <tr>\n",
              "      <th>545</th>\n",
              "      <td>0.294118</td>\n",
              "      <td>0.939698</td>\n",
              "      <td>0.622951</td>\n",
              "      <td>0.272727</td>\n",
              "      <td>0.244681</td>\n",
              "      <td>0.649776</td>\n",
              "      <td>0.408198</td>\n",
              "      <td>0.533333</td>\n",
              "    </tr>\n",
              "    <tr>\n",
              "      <th>546</th>\n",
              "      <td>0.235294</td>\n",
              "      <td>0.658291</td>\n",
              "      <td>0.557377</td>\n",
              "      <td>0.212121</td>\n",
              "      <td>0.196217</td>\n",
              "      <td>0.493294</td>\n",
              "      <td>0.035013</td>\n",
              "      <td>0.116667</td>\n",
              "    </tr>\n",
              "    <tr>\n",
              "      <th>547</th>\n",
              "      <td>0.058824</td>\n",
              "      <td>0.824121</td>\n",
              "      <td>0.672131</td>\n",
              "      <td>0.434343</td>\n",
              "      <td>0.079196</td>\n",
              "      <td>0.488823</td>\n",
              "      <td>0.112297</td>\n",
              "      <td>0.483333</td>\n",
              "    </tr>\n",
              "    <tr>\n",
              "      <th>549</th>\n",
              "      <td>0.058824</td>\n",
              "      <td>0.582915</td>\n",
              "      <td>0.573770</td>\n",
              "      <td>0.282828</td>\n",
              "      <td>0.000000</td>\n",
              "      <td>0.408346</td>\n",
              "      <td>0.053800</td>\n",
              "      <td>0.000000</td>\n",
              "    </tr>\n",
              "    <tr>\n",
              "      <th>550</th>\n",
              "      <td>0.176471</td>\n",
              "      <td>0.422111</td>\n",
              "      <td>0.557377</td>\n",
              "      <td>0.303030</td>\n",
              "      <td>0.125296</td>\n",
              "      <td>0.475410</td>\n",
              "      <td>0.219044</td>\n",
              "      <td>0.066667</td>\n",
              "    </tr>\n",
              "    <tr>\n",
              "      <th>551</th>\n",
              "      <td>0.352941</td>\n",
              "      <td>0.572864</td>\n",
              "      <td>0.721311</td>\n",
              "      <td>0.000000</td>\n",
              "      <td>0.000000</td>\n",
              "      <td>0.414307</td>\n",
              "      <td>0.072161</td>\n",
              "      <td>0.750000</td>\n",
              "    </tr>\n",
              "    <tr>\n",
              "      <th>552</th>\n",
              "      <td>0.058824</td>\n",
              "      <td>0.442211</td>\n",
              "      <td>0.508197</td>\n",
              "      <td>0.242424</td>\n",
              "      <td>0.052009</td>\n",
              "      <td>0.445604</td>\n",
              "      <td>0.146883</td>\n",
              "      <td>0.033333</td>\n",
              "    </tr>\n",
              "    <tr>\n",
              "      <th>553</th>\n",
              "      <td>0.058824</td>\n",
              "      <td>0.422111</td>\n",
              "      <td>0.524590</td>\n",
              "      <td>0.232323</td>\n",
              "      <td>0.135934</td>\n",
              "      <td>0.549925</td>\n",
              "      <td>0.167805</td>\n",
              "      <td>0.116667</td>\n",
              "    </tr>\n",
              "  </tbody>\n",
              "</table>\n",
              "</div>"
            ],
            "text/plain": [
              "         preg       glu        BP  ...       BMI  diaPedFun       age\n",
              "543  0.058824  0.442211  0.639344  ...  0.476900   0.122545  0.133333\n",
              "544  0.470588  0.934673  0.737705  ...  0.514158   0.147310  0.266667\n",
              "545  0.294118  0.939698  0.622951  ...  0.649776   0.408198  0.533333\n",
              "546  0.235294  0.658291  0.557377  ...  0.493294   0.035013  0.116667\n",
              "547  0.058824  0.824121  0.672131  ...  0.488823   0.112297  0.483333\n",
              "549  0.058824  0.582915  0.573770  ...  0.408346   0.053800  0.000000\n",
              "550  0.176471  0.422111  0.557377  ...  0.475410   0.219044  0.066667\n",
              "551  0.352941  0.572864  0.721311  ...  0.414307   0.072161  0.750000\n",
              "552  0.058824  0.442211  0.508197  ...  0.445604   0.146883  0.033333\n",
              "553  0.058824  0.422111  0.524590  ...  0.549925   0.167805  0.116667\n",
              "\n",
              "[10 rows x 8 columns]"
            ]
          },
          "metadata": {
            "tags": []
          },
          "execution_count": 169
        }
      ]
    },
    {
      "cell_type": "code",
      "metadata": {
        "id": "aJpKc9oOgfTe",
        "colab": {
          "base_uri": "https://localhost:8080/"
        },
        "outputId": "4c19d152-53fd-4e09-f7b4-318bf6d9298a"
      },
      "source": [
        "## Selecting a small part of y_test (first 10 in this case)\n",
        "\n",
        "\n",
        "y_test[0:10]"
      ],
      "execution_count": null,
      "outputs": [
        {
          "output_type": "execute_result",
          "data": {
            "text/plain": [
              "543    1\n",
              "544    0\n",
              "545    0\n",
              "546    1\n",
              "547    1\n",
              "549    1\n",
              "550    1\n",
              "551    1\n",
              "552    1\n",
              "553    1\n",
              "Name: cluster, dtype: int64"
            ]
          },
          "metadata": {
            "tags": []
          },
          "execution_count": 170
        }
      ]
    },
    {
      "cell_type": "code",
      "metadata": {
        "id": "QZxNWZzUgiPy",
        "colab": {
          "base_uri": "https://localhost:8080/"
        },
        "outputId": "621e9283-6cdf-44c7-88d4-164251f63373"
      },
      "source": [
        " ## Predicting class labels of given input data\n",
        " \n",
        " model.predict(X_test[0:10])"
      ],
      "execution_count": null,
      "outputs": [
        {
          "output_type": "execute_result",
          "data": {
            "text/plain": [
              "array([1, 0, 0, 1, 0, 1, 1, 1, 1, 1])"
            ]
          },
          "metadata": {
            "tags": []
          },
          "execution_count": 171
        }
      ]
    },
    {
      "cell_type": "code",
      "metadata": {
        "colab": {
          "base_uri": "https://localhost:8080/"
        },
        "id": "IXwGjQ0UnIbw",
        "outputId": "61d30800-fe61-48be-95ea-5cb26392c8d1"
      },
      "source": [
        "model.predict_proba(X_test[:10])"
      ],
      "execution_count": null,
      "outputs": [
        {
          "output_type": "execute_result",
          "data": {
            "text/plain": [
              "array([[3.99485888e-04, 9.99600514e-01],\n",
              "       [9.96329753e-01, 3.67024670e-03],\n",
              "       [9.99843814e-01, 1.56186333e-04],\n",
              "       [1.32533979e-02, 9.86746602e-01],\n",
              "       [5.26802415e-01, 4.73197585e-01],\n",
              "       [4.15491844e-04, 9.99584508e-01],\n",
              "       [4.35024085e-04, 9.99564976e-01],\n",
              "       [1.08375414e-04, 9.99891625e-01],\n",
              "       [3.54668299e-05, 9.99964533e-01],\n",
              "       [2.61302601e-04, 9.99738697e-01]])"
            ]
          },
          "metadata": {
            "tags": []
          },
          "execution_count": 172
        }
      ]
    },
    {
      "cell_type": "code",
      "metadata": {
        "id": "RXs3DRRK20bR",
        "colab": {
          "base_uri": "https://localhost:8080/"
        },
        "outputId": "48c127de-592d-41ac-f536-118d7c267b22"
      },
      "source": [
        "truth = y_test\n",
        "prediction =  model.predict(X_test)\n",
        "\n",
        "print(classification_report(truth, prediction))\n",
        "\n",
        "# The precision will be \"how many are correctly classified among that class\" -----> minimizing false psitives\n",
        "# The recall means \"how many of this class you find over the whole number of element of this class\" -----> minimizing false negatives\n",
        "# The f1-score is the harmonic mean between precision & recall\n",
        "# The support is the number of occurence of the given class in your dataset (so you have 24 of class 0 and 139 of class 1)\n",
        "\n",
        "# Macro-averaged: all classes equally contribute to the average\n",
        "# Weighted-average: each classes's contribution to the average is weighted by its size"
      ],
      "execution_count": null,
      "outputs": [
        {
          "output_type": "stream",
          "text": [
            "              precision    recall  f1-score   support\n",
            "\n",
            "           0       0.83      1.00      0.91        24\n",
            "           1       1.00      0.96      0.98       139\n",
            "\n",
            "    accuracy                           0.97       163\n",
            "   macro avg       0.91      0.98      0.94       163\n",
            "weighted avg       0.97      0.97      0.97       163\n",
            "\n"
          ],
          "name": "stdout"
        }
      ]
    },
    {
      "cell_type": "code",
      "metadata": {
        "id": "HIMHVe-85bcb"
      },
      "source": [
        "# plot_confusion_matrix(model, X_test, y_test)"
      ],
      "execution_count": null,
      "outputs": []
    },
    {
      "cell_type": "code",
      "metadata": {
        "id": "N6ny0IgK668g"
      },
      "source": [
        "# Source code credit for this function: https://gist.github.com/shaypal5/94c53d765083101efc0240d776a23823\n",
        "\n",
        "import seaborn as sns\n",
        "\n",
        "def print_confusion_matrix(confusion_matrix, class_names, figsize = (10,7), fontsize=14):\n",
        "    \"\"\"Prints a confusion matrix, as returned by sklearn.metrics.confusion_matrix, as a heatmap.\n",
        "    \n",
        "    Arguments\n",
        "    ---------\n",
        "    confusion_matrix: numpy.ndarray\n",
        "        The numpy.ndarray object returned from a call to sklearn.metrics.confusion_matrix. \n",
        "        Similarly constructed ndarrays can also be used.\n",
        "    class_names: list\n",
        "        An ordered list of class names, in the order they index the given confusion matrix.\n",
        "    figsize: tuple\n",
        "        A 2-long tuple, the first value determining the horizontal size of the ouputted figure,\n",
        "        the second determining the vertical size. Defaults to (10,7).\n",
        "    fontsize: int\n",
        "        Font size for axes labels. Defaults to 14.\n",
        "        \n",
        "    Returns\n",
        "    -------\n",
        "    matplotlib.figure.Figure\n",
        "        The resulting confusion matrix figure\n",
        "    \"\"\"\n",
        "\n",
        "    df_cm = pd.DataFrame(confusion_matrix, index=class_names, columns=class_names,)\n",
        "    fig = plt.figure(figsize=figsize)\n",
        "\n",
        "    try:\n",
        "        heatmap = sns.heatmap(df_cm, annot=True, fmt=\"d\")\n",
        "    except ValueError:\n",
        "        raise ValueError(\"Confusion matrix values must be integers.\")\n",
        "    heatmap.yaxis.set_ticklabels(heatmap.yaxis.get_ticklabels(), rotation=0, ha='right', fontsize=fontsize)\n",
        "    heatmap.xaxis.set_ticklabels(heatmap.xaxis.get_ticklabels(), rotation=0, ha='center', fontsize=fontsize)\n",
        "    plt.ylabel('Actual')\n",
        "    plt.xlabel('Prediction')"
      ],
      "execution_count": null,
      "outputs": []
    },
    {
      "cell_type": "code",
      "metadata": {
        "colab": {
          "base_uri": "https://localhost:8080/",
          "height": 446
        },
        "id": "UHyGPmHs69Hq",
        "outputId": "7efc36c7-0886-4351-ff15-320a528cc515"
      },
      "source": [
        "cm = confusion_matrix(truth,prediction)\n",
        "print_confusion_matrix(cm,[\"Diabetic\",\"Non-Diabetic\"])"
      ],
      "execution_count": null,
      "outputs": [
        {
          "output_type": "display_data",
          "data": {
            "image/png": "[encoded data removed]",
            "text/plain": [
              "<Figure size 720x504 with 2 Axes>"
            ]
          },
          "metadata": {
            "tags": [],
            "needs_background": "light"
          }
        }
      ]
    },
    {
      "cell_type": "markdown",
      "metadata": {
        "id": "i-IbsEmS4eSe"
      },
      "source": [
        "\n",
        "\n",
        "---\n",
        "\n",
        "\n",
        "\n",
        "---\n",
        "\n",
        "\n",
        "\n",
        "---\n",
        "\n",
        "Testing Performance with new Data\n",
        "\n",
        "---\n",
        "\n",
        "\n",
        "\n",
        "---\n",
        "\n",
        "\n",
        "\n",
        "---\n"
      ]
    },
    {
      "cell_type": "code",
      "metadata": {
        "colab": {
          "base_uri": "https://localhost:8080/",
          "height": 419
        },
        "id": "rDLjm0Nm2eUv",
        "outputId": "5fbbb05b-1129-4027-e672-b68169508e97"
      },
      "source": [
        "newDf = pd.read_csv('/content/drive/MyDrive/Notes/Final Year Project/DiabetesDataSet_2.csv')\n",
        "\n",
        "newDf"
      ],
      "execution_count": null,
      "outputs": [
        {
          "output_type": "execute_result",
          "data": {
            "text/html": [
              "<div>\n",
              "<style scoped>\n",
              "    .dataframe tbody tr th:only-of-type {\n",
              "        vertical-align: middle;\n",
              "    }\n",
              "\n",
              "    .dataframe tbody tr th {\n",
              "        vertical-align: top;\n",
              "    }\n",
              "\n",
              "    .dataframe thead th {\n",
              "        text-align: right;\n",
              "    }\n",
              "</style>\n",
              "<table border=\"1\" class=\"dataframe\">\n",
              "  <thead>\n",
              "    <tr style=\"text-align: right;\">\n",
              "      <th></th>\n",
              "      <th>Pregnancies</th>\n",
              "      <th>Glucose</th>\n",
              "      <th>BloodPressure</th>\n",
              "      <th>SkinThickness</th>\n",
              "      <th>Insulin</th>\n",
              "      <th>BMI</th>\n",
              "      <th>DiabetesPedigreeFunction</th>\n",
              "      <th>Age</th>\n",
              "      <th>Outcome</th>\n",
              "    </tr>\n",
              "  </thead>\n",
              "  <tbody>\n",
              "    <tr>\n",
              "      <th>0</th>\n",
              "      <td>2</td>\n",
              "      <td>138</td>\n",
              "      <td>62</td>\n",
              "      <td>35</td>\n",
              "      <td>0</td>\n",
              "      <td>33.6</td>\n",
              "      <td>0.127</td>\n",
              "      <td>47</td>\n",
              "      <td>1</td>\n",
              "    </tr>\n",
              "    <tr>\n",
              "      <th>1</th>\n",
              "      <td>0</td>\n",
              "      <td>84</td>\n",
              "      <td>82</td>\n",
              "      <td>31</td>\n",
              "      <td>125</td>\n",
              "      <td>38.2</td>\n",
              "      <td>0.233</td>\n",
              "      <td>23</td>\n",
              "      <td>0</td>\n",
              "    </tr>\n",
              "    <tr>\n",
              "      <th>2</th>\n",
              "      <td>0</td>\n",
              "      <td>145</td>\n",
              "      <td>0</td>\n",
              "      <td>0</td>\n",
              "      <td>0</td>\n",
              "      <td>44.2</td>\n",
              "      <td>0.630</td>\n",
              "      <td>31</td>\n",
              "      <td>1</td>\n",
              "    </tr>\n",
              "    <tr>\n",
              "      <th>3</th>\n",
              "      <td>0</td>\n",
              "      <td>135</td>\n",
              "      <td>68</td>\n",
              "      <td>42</td>\n",
              "      <td>250</td>\n",
              "      <td>42.3</td>\n",
              "      <td>0.365</td>\n",
              "      <td>24</td>\n",
              "      <td>1</td>\n",
              "    </tr>\n",
              "    <tr>\n",
              "      <th>4</th>\n",
              "      <td>1</td>\n",
              "      <td>139</td>\n",
              "      <td>62</td>\n",
              "      <td>41</td>\n",
              "      <td>480</td>\n",
              "      <td>40.7</td>\n",
              "      <td>0.536</td>\n",
              "      <td>21</td>\n",
              "      <td>0</td>\n",
              "    </tr>\n",
              "    <tr>\n",
              "      <th>...</th>\n",
              "      <td>...</td>\n",
              "      <td>...</td>\n",
              "      <td>...</td>\n",
              "      <td>...</td>\n",
              "      <td>...</td>\n",
              "      <td>...</td>\n",
              "      <td>...</td>\n",
              "      <td>...</td>\n",
              "      <td>...</td>\n",
              "    </tr>\n",
              "    <tr>\n",
              "      <th>1995</th>\n",
              "      <td>2</td>\n",
              "      <td>75</td>\n",
              "      <td>64</td>\n",
              "      <td>24</td>\n",
              "      <td>55</td>\n",
              "      <td>29.7</td>\n",
              "      <td>0.370</td>\n",
              "      <td>33</td>\n",
              "      <td>0</td>\n",
              "    </tr>\n",
              "    <tr>\n",
              "      <th>1996</th>\n",
              "      <td>8</td>\n",
              "      <td>179</td>\n",
              "      <td>72</td>\n",
              "      <td>42</td>\n",
              "      <td>130</td>\n",
              "      <td>32.7</td>\n",
              "      <td>0.719</td>\n",
              "      <td>36</td>\n",
              "      <td>1</td>\n",
              "    </tr>\n",
              "    <tr>\n",
              "      <th>1997</th>\n",
              "      <td>6</td>\n",
              "      <td>85</td>\n",
              "      <td>78</td>\n",
              "      <td>0</td>\n",
              "      <td>0</td>\n",
              "      <td>31.2</td>\n",
              "      <td>0.382</td>\n",
              "      <td>42</td>\n",
              "      <td>0</td>\n",
              "    </tr>\n",
              "    <tr>\n",
              "      <th>1998</th>\n",
              "      <td>0</td>\n",
              "      <td>129</td>\n",
              "      <td>110</td>\n",
              "      <td>46</td>\n",
              "      <td>130</td>\n",
              "      <td>67.1</td>\n",
              "      <td>0.319</td>\n",
              "      <td>26</td>\n",
              "      <td>1</td>\n",
              "    </tr>\n",
              "    <tr>\n",
              "      <th>1999</th>\n",
              "      <td>2</td>\n",
              "      <td>81</td>\n",
              "      <td>72</td>\n",
              "      <td>15</td>\n",
              "      <td>76</td>\n",
              "      <td>30.1</td>\n",
              "      <td>0.547</td>\n",
              "      <td>25</td>\n",
              "      <td>0</td>\n",
              "    </tr>\n",
              "  </tbody>\n",
              "</table>\n",
              "<p>2000 rows × 9 columns</p>\n",
              "</div>"
            ],
            "text/plain": [
              "      Pregnancies  Glucose  ...  Age  Outcome\n",
              "0               2      138  ...   47        1\n",
              "1               0       84  ...   23        0\n",
              "2               0      145  ...   31        1\n",
              "3               0      135  ...   24        1\n",
              "4               1      139  ...   21        0\n",
              "...           ...      ...  ...  ...      ...\n",
              "1995            2       75  ...   33        0\n",
              "1996            8      179  ...   36        1\n",
              "1997            6       85  ...   42        0\n",
              "1998            0      129  ...   26        1\n",
              "1999            2       81  ...   25        0\n",
              "\n",
              "[2000 rows x 9 columns]"
            ]
          },
          "metadata": {
            "tags": []
          },
          "execution_count": 177
        }
      ]
    },
    {
      "cell_type": "code",
      "metadata": {
        "colab": {
          "base_uri": "https://localhost:8080/",
          "height": 419
        },
        "id": "mdtRtWtT6ONq",
        "outputId": "71bc7a9e-753e-40e3-b162-be359d940ea3"
      },
      "source": [
        "## Using minMax Scaler\n",
        "scaler = MinMaxScaler()\n",
        "\n",
        "# fit using the train set\n",
        "scaler.fit(newDf)\n",
        "\n",
        "#transform the test set\n",
        "X_scaled = scaler.transform(newDf)\n",
        "\n",
        "newDf = pd.DataFrame(X_scaled)\n",
        "\n",
        "newDf.columns = ['preg',\t'glu',\t'BP',\t'skinTh',\t'insulin',\t'BMI',\t'diaPedFun',\t'age', 'class']\n",
        "\n",
        "newDf"
      ],
      "execution_count": null,
      "outputs": [
        {
          "output_type": "execute_result",
          "data": {
            "text/html": [
              "<div>\n",
              "<style scoped>\n",
              "    .dataframe tbody tr th:only-of-type {\n",
              "        vertical-align: middle;\n",
              "    }\n",
              "\n",
              "    .dataframe tbody tr th {\n",
              "        vertical-align: top;\n",
              "    }\n",
              "\n",
              "    .dataframe thead th {\n",
              "        text-align: right;\n",
              "    }\n",
              "</style>\n",
              "<table border=\"1\" class=\"dataframe\">\n",
              "  <thead>\n",
              "    <tr style=\"text-align: right;\">\n",
              "      <th></th>\n",
              "      <th>preg</th>\n",
              "      <th>glu</th>\n",
              "      <th>BP</th>\n",
              "      <th>skinTh</th>\n",
              "      <th>insulin</th>\n",
              "      <th>BMI</th>\n",
              "      <th>diaPedFun</th>\n",
              "      <th>age</th>\n",
              "      <th>class</th>\n",
              "    </tr>\n",
              "  </thead>\n",
              "  <tbody>\n",
              "    <tr>\n",
              "      <th>0</th>\n",
              "      <td>0.117647</td>\n",
              "      <td>0.693467</td>\n",
              "      <td>0.508197</td>\n",
              "      <td>0.318182</td>\n",
              "      <td>0.000000</td>\n",
              "      <td>0.416873</td>\n",
              "      <td>0.020922</td>\n",
              "      <td>0.433333</td>\n",
              "      <td>1.0</td>\n",
              "    </tr>\n",
              "    <tr>\n",
              "      <th>1</th>\n",
              "      <td>0.000000</td>\n",
              "      <td>0.422111</td>\n",
              "      <td>0.672131</td>\n",
              "      <td>0.281818</td>\n",
              "      <td>0.168011</td>\n",
              "      <td>0.473945</td>\n",
              "      <td>0.066183</td>\n",
              "      <td>0.033333</td>\n",
              "      <td>0.0</td>\n",
              "    </tr>\n",
              "    <tr>\n",
              "      <th>2</th>\n",
              "      <td>0.000000</td>\n",
              "      <td>0.728643</td>\n",
              "      <td>0.000000</td>\n",
              "      <td>0.000000</td>\n",
              "      <td>0.000000</td>\n",
              "      <td>0.548387</td>\n",
              "      <td>0.235696</td>\n",
              "      <td>0.166667</td>\n",
              "      <td>1.0</td>\n",
              "    </tr>\n",
              "    <tr>\n",
              "      <th>3</th>\n",
              "      <td>0.000000</td>\n",
              "      <td>0.678392</td>\n",
              "      <td>0.557377</td>\n",
              "      <td>0.381818</td>\n",
              "      <td>0.336022</td>\n",
              "      <td>0.524814</td>\n",
              "      <td>0.122545</td>\n",
              "      <td>0.050000</td>\n",
              "      <td>1.0</td>\n",
              "    </tr>\n",
              "    <tr>\n",
              "      <th>4</th>\n",
              "      <td>0.058824</td>\n",
              "      <td>0.698492</td>\n",
              "      <td>0.508197</td>\n",
              "      <td>0.372727</td>\n",
              "      <td>0.645161</td>\n",
              "      <td>0.504963</td>\n",
              "      <td>0.195559</td>\n",
              "      <td>0.000000</td>\n",
              "      <td>0.0</td>\n",
              "    </tr>\n",
              "    <tr>\n",
              "      <th>...</th>\n",
              "      <td>...</td>\n",
              "      <td>...</td>\n",
              "      <td>...</td>\n",
              "      <td>...</td>\n",
              "      <td>...</td>\n",
              "      <td>...</td>\n",
              "      <td>...</td>\n",
              "      <td>...</td>\n",
              "      <td>...</td>\n",
              "    </tr>\n",
              "    <tr>\n",
              "      <th>1995</th>\n",
              "      <td>0.117647</td>\n",
              "      <td>0.376884</td>\n",
              "      <td>0.524590</td>\n",
              "      <td>0.218182</td>\n",
              "      <td>0.073925</td>\n",
              "      <td>0.368486</td>\n",
              "      <td>0.124680</td>\n",
              "      <td>0.200000</td>\n",
              "      <td>0.0</td>\n",
              "    </tr>\n",
              "    <tr>\n",
              "      <th>1996</th>\n",
              "      <td>0.470588</td>\n",
              "      <td>0.899497</td>\n",
              "      <td>0.590164</td>\n",
              "      <td>0.381818</td>\n",
              "      <td>0.174731</td>\n",
              "      <td>0.405707</td>\n",
              "      <td>0.273698</td>\n",
              "      <td>0.250000</td>\n",
              "      <td>1.0</td>\n",
              "    </tr>\n",
              "    <tr>\n",
              "      <th>1997</th>\n",
              "      <td>0.352941</td>\n",
              "      <td>0.427136</td>\n",
              "      <td>0.639344</td>\n",
              "      <td>0.000000</td>\n",
              "      <td>0.000000</td>\n",
              "      <td>0.387097</td>\n",
              "      <td>0.129804</td>\n",
              "      <td>0.350000</td>\n",
              "      <td>0.0</td>\n",
              "    </tr>\n",
              "    <tr>\n",
              "      <th>1998</th>\n",
              "      <td>0.000000</td>\n",
              "      <td>0.648241</td>\n",
              "      <td>0.901639</td>\n",
              "      <td>0.418182</td>\n",
              "      <td>0.174731</td>\n",
              "      <td>0.832506</td>\n",
              "      <td>0.102904</td>\n",
              "      <td>0.083333</td>\n",
              "      <td>1.0</td>\n",
              "    </tr>\n",
              "    <tr>\n",
              "      <th>1999</th>\n",
              "      <td>0.117647</td>\n",
              "      <td>0.407035</td>\n",
              "      <td>0.590164</td>\n",
              "      <td>0.136364</td>\n",
              "      <td>0.102151</td>\n",
              "      <td>0.373449</td>\n",
              "      <td>0.200256</td>\n",
              "      <td>0.066667</td>\n",
              "      <td>0.0</td>\n",
              "    </tr>\n",
              "  </tbody>\n",
              "</table>\n",
              "<p>2000 rows × 9 columns</p>\n",
              "</div>"
            ],
            "text/plain": [
              "          preg       glu        BP  ...  diaPedFun       age  class\n",
              "0     0.117647  0.693467  0.508197  ...   0.020922  0.433333    1.0\n",
              "1     0.000000  0.422111  0.672131  ...   0.066183  0.033333    0.0\n",
              "2     0.000000  0.728643  0.000000  ...   0.235696  0.166667    1.0\n",
              "3     0.000000  0.678392  0.557377  ...   0.122545  0.050000    1.0\n",
              "4     0.058824  0.698492  0.508197  ...   0.195559  0.000000    0.0\n",
              "...        ...       ...       ...  ...        ...       ...    ...\n",
              "1995  0.117647  0.376884  0.524590  ...   0.124680  0.200000    0.0\n",
              "1996  0.470588  0.899497  0.590164  ...   0.273698  0.250000    1.0\n",
              "1997  0.352941  0.427136  0.639344  ...   0.129804  0.350000    0.0\n",
              "1998  0.000000  0.648241  0.901639  ...   0.102904  0.083333    1.0\n",
              "1999  0.117647  0.407035  0.590164  ...   0.200256  0.066667    0.0\n",
              "\n",
              "[2000 rows x 9 columns]"
            ]
          },
          "metadata": {
            "tags": []
          },
          "execution_count": 178
        }
      ]
    },
    {
      "cell_type": "code",
      "metadata": {
        "id": "7oHn5KKI2wVH"
      },
      "source": [
        "originalClassLabels = newDf['class']"
      ],
      "execution_count": null,
      "outputs": []
    },
    {
      "cell_type": "code",
      "metadata": {
        "colab": {
          "base_uri": "https://localhost:8080/"
        },
        "id": "iF44-0fa3Ikf",
        "outputId": "e5062ca7-f3e7-4e8e-a76d-d8a857f4b923"
      },
      "source": [
        "originalClassLabels.shape"
      ],
      "execution_count": null,
      "outputs": [
        {
          "output_type": "execute_result",
          "data": {
            "text/plain": [
              "(2000,)"
            ]
          },
          "metadata": {
            "tags": []
          },
          "execution_count": 180
        }
      ]
    },
    {
      "cell_type": "code",
      "metadata": {
        "colab": {
          "base_uri": "https://localhost:8080/",
          "height": 419
        },
        "id": "qcFwncm33VA3",
        "outputId": "86451f13-0965-4a5c-ea75-5205543f0af5"
      },
      "source": [
        "testingData = newDf.drop(columns=['class'])\n",
        "testingData"
      ],
      "execution_count": null,
      "outputs": [
        {
          "output_type": "execute_result",
          "data": {
            "text/html": [
              "<div>\n",
              "<style scoped>\n",
              "    .dataframe tbody tr th:only-of-type {\n",
              "        vertical-align: middle;\n",
              "    }\n",
              "\n",
              "    .dataframe tbody tr th {\n",
              "        vertical-align: top;\n",
              "    }\n",
              "\n",
              "    .dataframe thead th {\n",
              "        text-align: right;\n",
              "    }\n",
              "</style>\n",
              "<table border=\"1\" class=\"dataframe\">\n",
              "  <thead>\n",
              "    <tr style=\"text-align: right;\">\n",
              "      <th></th>\n",
              "      <th>preg</th>\n",
              "      <th>glu</th>\n",
              "      <th>BP</th>\n",
              "      <th>skinTh</th>\n",
              "      <th>insulin</th>\n",
              "      <th>BMI</th>\n",
              "      <th>diaPedFun</th>\n",
              "      <th>age</th>\n",
              "    </tr>\n",
              "  </thead>\n",
              "  <tbody>\n",
              "    <tr>\n",
              "      <th>0</th>\n",
              "      <td>0.117647</td>\n",
              "      <td>0.693467</td>\n",
              "      <td>0.508197</td>\n",
              "      <td>0.318182</td>\n",
              "      <td>0.000000</td>\n",
              "      <td>0.416873</td>\n",
              "      <td>0.020922</td>\n",
              "      <td>0.433333</td>\n",
              "    </tr>\n",
              "    <tr>\n",
              "      <th>1</th>\n",
              "      <td>0.000000</td>\n",
              "      <td>0.422111</td>\n",
              "      <td>0.672131</td>\n",
              "      <td>0.281818</td>\n",
              "      <td>0.168011</td>\n",
              "      <td>0.473945</td>\n",
              "      <td>0.066183</td>\n",
              "      <td>0.033333</td>\n",
              "    </tr>\n",
              "    <tr>\n",
              "      <th>2</th>\n",
              "      <td>0.000000</td>\n",
              "      <td>0.728643</td>\n",
              "      <td>0.000000</td>\n",
              "      <td>0.000000</td>\n",
              "      <td>0.000000</td>\n",
              "      <td>0.548387</td>\n",
              "      <td>0.235696</td>\n",
              "      <td>0.166667</td>\n",
              "    </tr>\n",
              "    <tr>\n",
              "      <th>3</th>\n",
              "      <td>0.000000</td>\n",
              "      <td>0.678392</td>\n",
              "      <td>0.557377</td>\n",
              "      <td>0.381818</td>\n",
              "      <td>0.336022</td>\n",
              "      <td>0.524814</td>\n",
              "      <td>0.122545</td>\n",
              "      <td>0.050000</td>\n",
              "    </tr>\n",
              "    <tr>\n",
              "      <th>4</th>\n",
              "      <td>0.058824</td>\n",
              "      <td>0.698492</td>\n",
              "      <td>0.508197</td>\n",
              "      <td>0.372727</td>\n",
              "      <td>0.645161</td>\n",
              "      <td>0.504963</td>\n",
              "      <td>0.195559</td>\n",
              "      <td>0.000000</td>\n",
              "    </tr>\n",
              "    <tr>\n",
              "      <th>...</th>\n",
              "      <td>...</td>\n",
              "      <td>...</td>\n",
              "      <td>...</td>\n",
              "      <td>...</td>\n",
              "      <td>...</td>\n",
              "      <td>...</td>\n",
              "      <td>...</td>\n",
              "      <td>...</td>\n",
              "    </tr>\n",
              "    <tr>\n",
              "      <th>1995</th>\n",
              "      <td>0.117647</td>\n",
              "      <td>0.376884</td>\n",
              "      <td>0.524590</td>\n",
              "      <td>0.218182</td>\n",
              "      <td>0.073925</td>\n",
              "      <td>0.368486</td>\n",
              "      <td>0.124680</td>\n",
              "      <td>0.200000</td>\n",
              "    </tr>\n",
              "    <tr>\n",
              "      <th>1996</th>\n",
              "      <td>0.470588</td>\n",
              "      <td>0.899497</td>\n",
              "      <td>0.590164</td>\n",
              "      <td>0.381818</td>\n",
              "      <td>0.174731</td>\n",
              "      <td>0.405707</td>\n",
              "      <td>0.273698</td>\n",
              "      <td>0.250000</td>\n",
              "    </tr>\n",
              "    <tr>\n",
              "      <th>1997</th>\n",
              "      <td>0.352941</td>\n",
              "      <td>0.427136</td>\n",
              "      <td>0.639344</td>\n",
              "      <td>0.000000</td>\n",
              "      <td>0.000000</td>\n",
              "      <td>0.387097</td>\n",
              "      <td>0.129804</td>\n",
              "      <td>0.350000</td>\n",
              "    </tr>\n",
              "    <tr>\n",
              "      <th>1998</th>\n",
              "      <td>0.000000</td>\n",
              "      <td>0.648241</td>\n",
              "      <td>0.901639</td>\n",
              "      <td>0.418182</td>\n",
              "      <td>0.174731</td>\n",
              "      <td>0.832506</td>\n",
              "      <td>0.102904</td>\n",
              "      <td>0.083333</td>\n",
              "    </tr>\n",
              "    <tr>\n",
              "      <th>1999</th>\n",
              "      <td>0.117647</td>\n",
              "      <td>0.407035</td>\n",
              "      <td>0.590164</td>\n",
              "      <td>0.136364</td>\n",
              "      <td>0.102151</td>\n",
              "      <td>0.373449</td>\n",
              "      <td>0.200256</td>\n",
              "      <td>0.066667</td>\n",
              "    </tr>\n",
              "  </tbody>\n",
              "</table>\n",
              "<p>2000 rows × 8 columns</p>\n",
              "</div>"
            ],
            "text/plain": [
              "          preg       glu        BP  ...       BMI  diaPedFun       age\n",
              "0     0.117647  0.693467  0.508197  ...  0.416873   0.020922  0.433333\n",
              "1     0.000000  0.422111  0.672131  ...  0.473945   0.066183  0.033333\n",
              "2     0.000000  0.728643  0.000000  ...  0.548387   0.235696  0.166667\n",
              "3     0.000000  0.678392  0.557377  ...  0.524814   0.122545  0.050000\n",
              "4     0.058824  0.698492  0.508197  ...  0.504963   0.195559  0.000000\n",
              "...        ...       ...       ...  ...       ...        ...       ...\n",
              "1995  0.117647  0.376884  0.524590  ...  0.368486   0.124680  0.200000\n",
              "1996  0.470588  0.899497  0.590164  ...  0.405707   0.273698  0.250000\n",
              "1997  0.352941  0.427136  0.639344  ...  0.387097   0.129804  0.350000\n",
              "1998  0.000000  0.648241  0.901639  ...  0.832506   0.102904  0.083333\n",
              "1999  0.117647  0.407035  0.590164  ...  0.373449   0.200256  0.066667\n",
              "\n",
              "[2000 rows x 8 columns]"
            ]
          },
          "metadata": {
            "tags": []
          },
          "execution_count": 181
        }
      ]
    },
    {
      "cell_type": "code",
      "metadata": {
        "id": "WpWuov4r3odW"
      },
      "source": [
        " predictedLabels = model.predict(testingData)"
      ],
      "execution_count": null,
      "outputs": []
    },
    {
      "cell_type": "code",
      "metadata": {
        "colab": {
          "base_uri": "https://localhost:8080/"
        },
        "id": "zaCwkV5e4Kwa",
        "outputId": "d5aca03a-0cfd-4ea6-961a-3af884b98642"
      },
      "source": [
        "print(classification_report(originalClassLabels, predictedLabels))"
      ],
      "execution_count": null,
      "outputs": [
        {
          "output_type": "stream",
          "text": [
            "              precision    recall  f1-score   support\n",
            "\n",
            "         0.0       0.34      0.09      0.15      1316\n",
            "         1.0       0.27      0.66      0.39       684\n",
            "\n",
            "    accuracy                           0.29      2000\n",
            "   macro avg       0.31      0.38      0.27      2000\n",
            "weighted avg       0.32      0.29      0.23      2000\n",
            "\n"
          ],
          "name": "stdout"
        }
      ]
    },
    {
      "cell_type": "code",
      "metadata": {
        "colab": {
          "base_uri": "https://localhost:8080/",
          "height": 446
        },
        "id": "A5AGCRO55FZb",
        "outputId": "731ffcef-4aeb-4adb-8c64-8f21b935e4f7"
      },
      "source": [
        "cm2 = confusion_matrix(originalClassLabels,predictedLabels)\n",
        "print_confusion_matrix(cm2,[\"Diabetic\",\"Non-Diabetic\"])"
      ],
      "execution_count": null,
      "outputs": [
        {
          "output_type": "display_data",
          "data": {
            "image/png": "[encoded data removed]",
            "text/plain": [
              "<Figure size 720x504 with 2 Axes>"
            ]
          },
          "metadata": {
            "tags": [],
            "needs_background": "light"
          }
        }
      ]
    }
  ]
}